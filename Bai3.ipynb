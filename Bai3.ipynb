{
 "cells": [
  {
   "cell_type": "code",
   "execution_count": 1,
   "metadata": {},
   "outputs": [],
   "source": [
    "import pandas as pd\n",
    "import numpy as np\n",
    "import matplotlib.pyplot as plt\n",
    "import seaborn as sb"
   ]
  },
  {
   "cell_type": "code",
   "execution_count": 2,
   "metadata": {},
   "outputs": [
    {
     "data": {
      "text/html": [
       "<div>\n",
       "<style scoped>\n",
       "    .dataframe tbody tr th:only-of-type {\n",
       "        vertical-align: middle;\n",
       "    }\n",
       "\n",
       "    .dataframe tbody tr th {\n",
       "        vertical-align: top;\n",
       "    }\n",
       "\n",
       "    .dataframe thead th {\n",
       "        text-align: right;\n",
       "    }\n",
       "</style>\n",
       "<table border=\"1\" class=\"dataframe\">\n",
       "  <thead>\n",
       "    <tr style=\"text-align: right;\">\n",
       "      <th></th>\n",
       "      <th>0</th>\n",
       "      <th>1</th>\n",
       "      <th>2</th>\n",
       "      <th>3</th>\n",
       "      <th>4</th>\n",
       "      <th>5</th>\n",
       "      <th>6</th>\n",
       "      <th>7</th>\n",
       "      <th>8</th>\n",
       "      <th>9</th>\n",
       "    </tr>\n",
       "  </thead>\n",
       "  <tbody>\n",
       "    <tr>\n",
       "      <th>0</th>\n",
       "      <td>adviser</td>\n",
       "      <td>32/60</td>\n",
       "      <td>125</td>\n",
       "      <td>256</td>\n",
       "      <td>6000</td>\n",
       "      <td>256</td>\n",
       "      <td>16</td>\n",
       "      <td>128</td>\n",
       "      <td>198</td>\n",
       "      <td>199</td>\n",
       "    </tr>\n",
       "    <tr>\n",
       "      <th>1</th>\n",
       "      <td>amdahl</td>\n",
       "      <td>470v/7</td>\n",
       "      <td>29</td>\n",
       "      <td>8000</td>\n",
       "      <td>32000</td>\n",
       "      <td>32</td>\n",
       "      <td>8</td>\n",
       "      <td>32</td>\n",
       "      <td>269</td>\n",
       "      <td>253</td>\n",
       "    </tr>\n",
       "    <tr>\n",
       "      <th>2</th>\n",
       "      <td>amdahl</td>\n",
       "      <td>470v/7a</td>\n",
       "      <td>29</td>\n",
       "      <td>8000</td>\n",
       "      <td>32000</td>\n",
       "      <td>32</td>\n",
       "      <td>8</td>\n",
       "      <td>32</td>\n",
       "      <td>220</td>\n",
       "      <td>253</td>\n",
       "    </tr>\n",
       "    <tr>\n",
       "      <th>3</th>\n",
       "      <td>amdahl</td>\n",
       "      <td>470v/7b</td>\n",
       "      <td>29</td>\n",
       "      <td>8000</td>\n",
       "      <td>32000</td>\n",
       "      <td>32</td>\n",
       "      <td>8</td>\n",
       "      <td>32</td>\n",
       "      <td>172</td>\n",
       "      <td>253</td>\n",
       "    </tr>\n",
       "    <tr>\n",
       "      <th>4</th>\n",
       "      <td>amdahl</td>\n",
       "      <td>470v/7c</td>\n",
       "      <td>29</td>\n",
       "      <td>8000</td>\n",
       "      <td>16000</td>\n",
       "      <td>32</td>\n",
       "      <td>8</td>\n",
       "      <td>16</td>\n",
       "      <td>132</td>\n",
       "      <td>132</td>\n",
       "    </tr>\n",
       "  </tbody>\n",
       "</table>\n",
       "</div>"
      ],
      "text/plain": [
       "         0        1    2     3      4    5   6    7    8    9\n",
       "0  adviser    32/60  125   256   6000  256  16  128  198  199\n",
       "1   amdahl   470v/7   29  8000  32000   32   8   32  269  253\n",
       "2   amdahl  470v/7a   29  8000  32000   32   8   32  220  253\n",
       "3   amdahl  470v/7b   29  8000  32000   32   8   32  172  253\n",
       "4   amdahl  470v/7c   29  8000  16000   32   8   16  132  132"
      ]
     },
     "execution_count": 2,
     "metadata": {},
     "output_type": "execute_result"
    }
   ],
   "source": [
    "data = pd.read_csv('machine.data.txt', sep = ',', header = None)\n",
    "data.head()"
   ]
  },
  {
   "cell_type": "code",
   "execution_count": 3,
   "metadata": {},
   "outputs": [
    {
     "name": "stdout",
     "output_type": "stream",
     "text": [
      "<class 'pandas.core.frame.DataFrame'>\n",
      "RangeIndex: 209 entries, 0 to 208\n",
      "Data columns (total 10 columns):\n",
      "0    209 non-null object\n",
      "1    209 non-null object\n",
      "2    209 non-null int64\n",
      "3    209 non-null int64\n",
      "4    209 non-null int64\n",
      "5    209 non-null int64\n",
      "6    209 non-null int64\n",
      "7    209 non-null int64\n",
      "8    209 non-null int64\n",
      "9    209 non-null int64\n",
      "dtypes: int64(8), object(2)\n",
      "memory usage: 14.7+ KB\n"
     ]
    }
   ],
   "source": [
    "data.info()"
   ]
  },
  {
   "cell_type": "code",
   "execution_count": 4,
   "metadata": {},
   "outputs": [
    {
     "data": {
      "text/html": [
       "<div>\n",
       "<style scoped>\n",
       "    .dataframe tbody tr th:only-of-type {\n",
       "        vertical-align: middle;\n",
       "    }\n",
       "\n",
       "    .dataframe tbody tr th {\n",
       "        vertical-align: top;\n",
       "    }\n",
       "\n",
       "    .dataframe thead th {\n",
       "        text-align: right;\n",
       "    }\n",
       "</style>\n",
       "<table border=\"1\" class=\"dataframe\">\n",
       "  <thead>\n",
       "    <tr style=\"text-align: right;\">\n",
       "      <th></th>\n",
       "      <th>2</th>\n",
       "      <th>3</th>\n",
       "      <th>4</th>\n",
       "      <th>5</th>\n",
       "      <th>6</th>\n",
       "      <th>7</th>\n",
       "      <th>8</th>\n",
       "      <th>9</th>\n",
       "    </tr>\n",
       "  </thead>\n",
       "  <tbody>\n",
       "    <tr>\n",
       "      <th>count</th>\n",
       "      <td>209.000000</td>\n",
       "      <td>209.000000</td>\n",
       "      <td>209.000000</td>\n",
       "      <td>209.000000</td>\n",
       "      <td>209.000000</td>\n",
       "      <td>209.000000</td>\n",
       "      <td>209.000000</td>\n",
       "      <td>209.000000</td>\n",
       "    </tr>\n",
       "    <tr>\n",
       "      <th>mean</th>\n",
       "      <td>203.822967</td>\n",
       "      <td>2867.980861</td>\n",
       "      <td>11796.153110</td>\n",
       "      <td>25.205742</td>\n",
       "      <td>4.698565</td>\n",
       "      <td>18.267943</td>\n",
       "      <td>105.622010</td>\n",
       "      <td>99.330144</td>\n",
       "    </tr>\n",
       "    <tr>\n",
       "      <th>std</th>\n",
       "      <td>260.262926</td>\n",
       "      <td>3878.742758</td>\n",
       "      <td>11726.564377</td>\n",
       "      <td>40.628722</td>\n",
       "      <td>6.816274</td>\n",
       "      <td>25.997318</td>\n",
       "      <td>160.830733</td>\n",
       "      <td>154.757102</td>\n",
       "    </tr>\n",
       "    <tr>\n",
       "      <th>min</th>\n",
       "      <td>17.000000</td>\n",
       "      <td>64.000000</td>\n",
       "      <td>64.000000</td>\n",
       "      <td>0.000000</td>\n",
       "      <td>0.000000</td>\n",
       "      <td>0.000000</td>\n",
       "      <td>6.000000</td>\n",
       "      <td>15.000000</td>\n",
       "    </tr>\n",
       "    <tr>\n",
       "      <th>25%</th>\n",
       "      <td>50.000000</td>\n",
       "      <td>768.000000</td>\n",
       "      <td>4000.000000</td>\n",
       "      <td>0.000000</td>\n",
       "      <td>1.000000</td>\n",
       "      <td>5.000000</td>\n",
       "      <td>27.000000</td>\n",
       "      <td>28.000000</td>\n",
       "    </tr>\n",
       "    <tr>\n",
       "      <th>50%</th>\n",
       "      <td>110.000000</td>\n",
       "      <td>2000.000000</td>\n",
       "      <td>8000.000000</td>\n",
       "      <td>8.000000</td>\n",
       "      <td>2.000000</td>\n",
       "      <td>8.000000</td>\n",
       "      <td>50.000000</td>\n",
       "      <td>45.000000</td>\n",
       "    </tr>\n",
       "    <tr>\n",
       "      <th>75%</th>\n",
       "      <td>225.000000</td>\n",
       "      <td>4000.000000</td>\n",
       "      <td>16000.000000</td>\n",
       "      <td>32.000000</td>\n",
       "      <td>6.000000</td>\n",
       "      <td>24.000000</td>\n",
       "      <td>113.000000</td>\n",
       "      <td>101.000000</td>\n",
       "    </tr>\n",
       "    <tr>\n",
       "      <th>max</th>\n",
       "      <td>1500.000000</td>\n",
       "      <td>32000.000000</td>\n",
       "      <td>64000.000000</td>\n",
       "      <td>256.000000</td>\n",
       "      <td>52.000000</td>\n",
       "      <td>176.000000</td>\n",
       "      <td>1150.000000</td>\n",
       "      <td>1238.000000</td>\n",
       "    </tr>\n",
       "  </tbody>\n",
       "</table>\n",
       "</div>"
      ],
      "text/plain": [
       "                 2             3             4           5           6  \\\n",
       "count   209.000000    209.000000    209.000000  209.000000  209.000000   \n",
       "mean    203.822967   2867.980861  11796.153110   25.205742    4.698565   \n",
       "std     260.262926   3878.742758  11726.564377   40.628722    6.816274   \n",
       "min      17.000000     64.000000     64.000000    0.000000    0.000000   \n",
       "25%      50.000000    768.000000   4000.000000    0.000000    1.000000   \n",
       "50%     110.000000   2000.000000   8000.000000    8.000000    2.000000   \n",
       "75%     225.000000   4000.000000  16000.000000   32.000000    6.000000   \n",
       "max    1500.000000  32000.000000  64000.000000  256.000000   52.000000   \n",
       "\n",
       "                7            8            9  \n",
       "count  209.000000   209.000000   209.000000  \n",
       "mean    18.267943   105.622010    99.330144  \n",
       "std     25.997318   160.830733   154.757102  \n",
       "min      0.000000     6.000000    15.000000  \n",
       "25%      5.000000    27.000000    28.000000  \n",
       "50%      8.000000    50.000000    45.000000  \n",
       "75%     24.000000   113.000000   101.000000  \n",
       "max    176.000000  1150.000000  1238.000000  "
      ]
     },
     "execution_count": 4,
     "metadata": {},
     "output_type": "execute_result"
    }
   ],
   "source": [
    "data.describe()"
   ]
  },
  {
   "cell_type": "code",
   "execution_count": 5,
   "metadata": {},
   "outputs": [
    {
     "data": {
      "text/html": [
       "<div>\n",
       "<style scoped>\n",
       "    .dataframe tbody tr th:only-of-type {\n",
       "        vertical-align: middle;\n",
       "    }\n",
       "\n",
       "    .dataframe tbody tr th {\n",
       "        vertical-align: top;\n",
       "    }\n",
       "\n",
       "    .dataframe thead th {\n",
       "        text-align: right;\n",
       "    }\n",
       "</style>\n",
       "<table border=\"1\" class=\"dataframe\">\n",
       "  <thead>\n",
       "    <tr style=\"text-align: right;\">\n",
       "      <th></th>\n",
       "      <th>2</th>\n",
       "      <th>3</th>\n",
       "      <th>4</th>\n",
       "      <th>5</th>\n",
       "      <th>6</th>\n",
       "      <th>7</th>\n",
       "      <th>8</th>\n",
       "      <th>0_adviser</th>\n",
       "      <th>0_amdahl</th>\n",
       "      <th>0_apollo</th>\n",
       "      <th>...</th>\n",
       "      <th>1_v8635</th>\n",
       "      <th>1_v8650</th>\n",
       "      <th>1_v8655</th>\n",
       "      <th>1_v8665</th>\n",
       "      <th>1_v8670</th>\n",
       "      <th>1_vax:11/730</th>\n",
       "      <th>1_vax:11/750</th>\n",
       "      <th>1_vax:11/780</th>\n",
       "      <th>1_vs-100</th>\n",
       "      <th>1_vs-90</th>\n",
       "    </tr>\n",
       "  </thead>\n",
       "  <tbody>\n",
       "    <tr>\n",
       "      <th>0</th>\n",
       "      <td>125</td>\n",
       "      <td>256</td>\n",
       "      <td>6000</td>\n",
       "      <td>256</td>\n",
       "      <td>16</td>\n",
       "      <td>128</td>\n",
       "      <td>198</td>\n",
       "      <td>1</td>\n",
       "      <td>0</td>\n",
       "      <td>0</td>\n",
       "      <td>...</td>\n",
       "      <td>0</td>\n",
       "      <td>0</td>\n",
       "      <td>0</td>\n",
       "      <td>0</td>\n",
       "      <td>0</td>\n",
       "      <td>0</td>\n",
       "      <td>0</td>\n",
       "      <td>0</td>\n",
       "      <td>0</td>\n",
       "      <td>0</td>\n",
       "    </tr>\n",
       "    <tr>\n",
       "      <th>1</th>\n",
       "      <td>29</td>\n",
       "      <td>8000</td>\n",
       "      <td>32000</td>\n",
       "      <td>32</td>\n",
       "      <td>8</td>\n",
       "      <td>32</td>\n",
       "      <td>269</td>\n",
       "      <td>0</td>\n",
       "      <td>1</td>\n",
       "      <td>0</td>\n",
       "      <td>...</td>\n",
       "      <td>0</td>\n",
       "      <td>0</td>\n",
       "      <td>0</td>\n",
       "      <td>0</td>\n",
       "      <td>0</td>\n",
       "      <td>0</td>\n",
       "      <td>0</td>\n",
       "      <td>0</td>\n",
       "      <td>0</td>\n",
       "      <td>0</td>\n",
       "    </tr>\n",
       "    <tr>\n",
       "      <th>2</th>\n",
       "      <td>29</td>\n",
       "      <td>8000</td>\n",
       "      <td>32000</td>\n",
       "      <td>32</td>\n",
       "      <td>8</td>\n",
       "      <td>32</td>\n",
       "      <td>220</td>\n",
       "      <td>0</td>\n",
       "      <td>1</td>\n",
       "      <td>0</td>\n",
       "      <td>...</td>\n",
       "      <td>0</td>\n",
       "      <td>0</td>\n",
       "      <td>0</td>\n",
       "      <td>0</td>\n",
       "      <td>0</td>\n",
       "      <td>0</td>\n",
       "      <td>0</td>\n",
       "      <td>0</td>\n",
       "      <td>0</td>\n",
       "      <td>0</td>\n",
       "    </tr>\n",
       "    <tr>\n",
       "      <th>3</th>\n",
       "      <td>29</td>\n",
       "      <td>8000</td>\n",
       "      <td>32000</td>\n",
       "      <td>32</td>\n",
       "      <td>8</td>\n",
       "      <td>32</td>\n",
       "      <td>172</td>\n",
       "      <td>0</td>\n",
       "      <td>1</td>\n",
       "      <td>0</td>\n",
       "      <td>...</td>\n",
       "      <td>0</td>\n",
       "      <td>0</td>\n",
       "      <td>0</td>\n",
       "      <td>0</td>\n",
       "      <td>0</td>\n",
       "      <td>0</td>\n",
       "      <td>0</td>\n",
       "      <td>0</td>\n",
       "      <td>0</td>\n",
       "      <td>0</td>\n",
       "    </tr>\n",
       "    <tr>\n",
       "      <th>4</th>\n",
       "      <td>29</td>\n",
       "      <td>8000</td>\n",
       "      <td>16000</td>\n",
       "      <td>32</td>\n",
       "      <td>8</td>\n",
       "      <td>16</td>\n",
       "      <td>132</td>\n",
       "      <td>0</td>\n",
       "      <td>1</td>\n",
       "      <td>0</td>\n",
       "      <td>...</td>\n",
       "      <td>0</td>\n",
       "      <td>0</td>\n",
       "      <td>0</td>\n",
       "      <td>0</td>\n",
       "      <td>0</td>\n",
       "      <td>0</td>\n",
       "      <td>0</td>\n",
       "      <td>0</td>\n",
       "      <td>0</td>\n",
       "      <td>0</td>\n",
       "    </tr>\n",
       "  </tbody>\n",
       "</table>\n",
       "<p>5 rows × 246 columns</p>\n",
       "</div>"
      ],
      "text/plain": [
       "     2     3      4    5   6    7    8  0_adviser  0_amdahl  0_apollo  ...  \\\n",
       "0  125   256   6000  256  16  128  198          1         0         0  ...   \n",
       "1   29  8000  32000   32   8   32  269          0         1         0  ...   \n",
       "2   29  8000  32000   32   8   32  220          0         1         0  ...   \n",
       "3   29  8000  32000   32   8   32  172          0         1         0  ...   \n",
       "4   29  8000  16000   32   8   16  132          0         1         0  ...   \n",
       "\n",
       "   1_v8635  1_v8650  1_v8655  1_v8665  1_v8670  1_vax:11/730  1_vax:11/750  \\\n",
       "0        0        0        0        0        0             0             0   \n",
       "1        0        0        0        0        0             0             0   \n",
       "2        0        0        0        0        0             0             0   \n",
       "3        0        0        0        0        0             0             0   \n",
       "4        0        0        0        0        0             0             0   \n",
       "\n",
       "   1_vax:11/780  1_vs-100  1_vs-90  \n",
       "0             0         0        0  \n",
       "1             0         0        0  \n",
       "2             0         0        0  \n",
       "3             0         0        0  \n",
       "4             0         0        0  \n",
       "\n",
       "[5 rows x 246 columns]"
      ]
     },
     "execution_count": 5,
     "metadata": {},
     "output_type": "execute_result"
    }
   ],
   "source": [
    "X = pd.get_dummies(data.iloc[:,:9])\n",
    "X.head()"
   ]
  },
  {
   "cell_type": "code",
   "execution_count": 6,
   "metadata": {},
   "outputs": [
    {
     "data": {
      "text/plain": [
       "0    199\n",
       "1    253\n",
       "2    253\n",
       "3    253\n",
       "4    132\n",
       "Name: 9, dtype: int64"
      ]
     },
     "execution_count": 6,
     "metadata": {},
     "output_type": "execute_result"
    }
   ],
   "source": [
    "Y = data.iloc[:,9]\n",
    "Y.head()"
   ]
  },
  {
   "cell_type": "code",
   "execution_count": 7,
   "metadata": {},
   "outputs": [
    {
     "data": {
      "text/plain": [
       "count     209.000000\n",
       "mean       99.330144\n",
       "std       154.757102\n",
       "min        15.000000\n",
       "25%        28.000000\n",
       "50%        45.000000\n",
       "75%       101.000000\n",
       "max      1238.000000\n",
       "Name: 9, dtype: float64"
      ]
     },
     "execution_count": 7,
     "metadata": {},
     "output_type": "execute_result"
    }
   ],
   "source": [
    "Y.describe()"
   ]
  },
  {
   "cell_type": "code",
   "execution_count": 8,
   "metadata": {
    "scrolled": true
   },
   "outputs": [
    {
     "data": {
      "text/html": [
       "<div>\n",
       "<style scoped>\n",
       "    .dataframe tbody tr th:only-of-type {\n",
       "        vertical-align: middle;\n",
       "    }\n",
       "\n",
       "    .dataframe tbody tr th {\n",
       "        vertical-align: top;\n",
       "    }\n",
       "\n",
       "    .dataframe thead th {\n",
       "        text-align: right;\n",
       "    }\n",
       "</style>\n",
       "<table border=\"1\" class=\"dataframe\">\n",
       "  <thead>\n",
       "    <tr style=\"text-align: right;\">\n",
       "      <th></th>\n",
       "      <th>2</th>\n",
       "      <th>3</th>\n",
       "      <th>4</th>\n",
       "      <th>5</th>\n",
       "      <th>6</th>\n",
       "      <th>7</th>\n",
       "      <th>8</th>\n",
       "      <th>Y</th>\n",
       "    </tr>\n",
       "  </thead>\n",
       "  <tbody>\n",
       "    <tr>\n",
       "      <th>0</th>\n",
       "      <td>125</td>\n",
       "      <td>256</td>\n",
       "      <td>6000</td>\n",
       "      <td>256</td>\n",
       "      <td>16</td>\n",
       "      <td>128</td>\n",
       "      <td>198</td>\n",
       "      <td>199</td>\n",
       "    </tr>\n",
       "    <tr>\n",
       "      <th>1</th>\n",
       "      <td>29</td>\n",
       "      <td>8000</td>\n",
       "      <td>32000</td>\n",
       "      <td>32</td>\n",
       "      <td>8</td>\n",
       "      <td>32</td>\n",
       "      <td>269</td>\n",
       "      <td>253</td>\n",
       "    </tr>\n",
       "    <tr>\n",
       "      <th>2</th>\n",
       "      <td>29</td>\n",
       "      <td>8000</td>\n",
       "      <td>32000</td>\n",
       "      <td>32</td>\n",
       "      <td>8</td>\n",
       "      <td>32</td>\n",
       "      <td>220</td>\n",
       "      <td>253</td>\n",
       "    </tr>\n",
       "    <tr>\n",
       "      <th>3</th>\n",
       "      <td>29</td>\n",
       "      <td>8000</td>\n",
       "      <td>32000</td>\n",
       "      <td>32</td>\n",
       "      <td>8</td>\n",
       "      <td>32</td>\n",
       "      <td>172</td>\n",
       "      <td>253</td>\n",
       "    </tr>\n",
       "    <tr>\n",
       "      <th>4</th>\n",
       "      <td>29</td>\n",
       "      <td>8000</td>\n",
       "      <td>16000</td>\n",
       "      <td>32</td>\n",
       "      <td>8</td>\n",
       "      <td>16</td>\n",
       "      <td>132</td>\n",
       "      <td>132</td>\n",
       "    </tr>\n",
       "  </tbody>\n",
       "</table>\n",
       "</div>"
      ],
      "text/plain": [
       "     2     3      4    5   6    7    8    Y\n",
       "0  125   256   6000  256  16  128  198  199\n",
       "1   29  8000  32000   32   8   32  269  253\n",
       "2   29  8000  32000   32   8   32  220  253\n",
       "3   29  8000  32000   32   8   32  172  253\n",
       "4   29  8000  16000   32   8   16  132  132"
      ]
     },
     "execution_count": 8,
     "metadata": {},
     "output_type": "execute_result"
    }
   ],
   "source": [
    "# Plot continuous variables, not plot categorical features\n",
    "plot = X.iloc[:,:7]\n",
    "plot['Y'] = Y\n",
    "plot.head()"
   ]
  },
  {
   "cell_type": "code",
   "execution_count": 9,
   "metadata": {},
   "outputs": [
    {
     "data": {
      "text/plain": [
       "<seaborn.axisgrid.PairGrid at 0x19be7a30>"
      ]
     },
     "execution_count": 9,
     "metadata": {},
     "output_type": "execute_result"
    },
    {
     "data": {
      "image/png": "[encoded data removed]",
      "text/plain": [
       "<Figure size 1440x1440 with 72 Axes>"
      ]
     },
     "metadata": {
      "needs_background": "light"
     },
     "output_type": "display_data"
    }
   ],
   "source": [
    "sb.pairplot(plot)"
   ]
  },
  {
   "cell_type": "markdown",
   "metadata": {},
   "source": [
    "** Nhận xét bước đầu về dữ liệu: Dữ liệu không bị thiếu, nhưng số lượng mẫu hơi ít (chỉ có 208 mẫu). Có thể ta sẽ scale dữ liệu vì có chênh lệch giữa các cột (sau bước đánh giá đầu tiên). Và sau khi vẽ hình, ta thấy một số biến cũng có liên quan tuyến tính với nhau, ta có thể loại bỏ sau khi dự đoán (nếu kết quả thấp)."
   ]
  },
  {
   "cell_type": "markdown",
   "metadata": {},
   "source": [
    "** Trước tiên em áp dụng thuật toán Linear Regression và chia dữ liệu train:test = 7:3 để có đánh giá đầu tiên"
   ]
  },
  {
   "cell_type": "code",
   "execution_count": 10,
   "metadata": {},
   "outputs": [
    {
     "data": {
      "text/plain": [
       "LinearRegression(copy_X=True, fit_intercept=True, n_jobs=None,\n",
       "         normalize=False)"
      ]
     },
     "execution_count": 10,
     "metadata": {},
     "output_type": "execute_result"
    }
   ],
   "source": [
    "from sklearn.linear_model import LinearRegression\n",
    "from sklearn.model_selection import train_test_split\n",
    "\n",
    "X_train1, X_test1, Y_train1, Y_test1 = train_test_split(X, Y, test_size = 0.3, random_state = 42)\n",
    "\n",
    "model1 = LinearRegression()\n",
    "model1.fit(X_train1, Y_train1)"
   ]
  },
  {
   "cell_type": "code",
   "execution_count": 11,
   "metadata": {},
   "outputs": [],
   "source": [
    "Y_pred1 = model1.predict(X_test1)"
   ]
  },
  {
   "cell_type": "code",
   "execution_count": 12,
   "metadata": {},
   "outputs": [
    {
     "data": {
      "text/plain": [
       "1.0"
      ]
     },
     "execution_count": 12,
     "metadata": {},
     "output_type": "execute_result"
    }
   ],
   "source": [
    "model1.score(X_train1, Y_train1)"
   ]
  },
  {
   "cell_type": "code",
   "execution_count": 13,
   "metadata": {},
   "outputs": [
    {
     "data": {
      "text/plain": [
       "0.9011520954241361"
      ]
     },
     "execution_count": 13,
     "metadata": {},
     "output_type": "execute_result"
    }
   ],
   "source": [
    "model1.score(X_test1, Y_test1)"
   ]
  },
  {
   "cell_type": "code",
   "execution_count": 14,
   "metadata": {},
   "outputs": [
    {
     "data": {
      "text/plain": [
       "0.9326335403866274"
      ]
     },
     "execution_count": 14,
     "metadata": {},
     "output_type": "execute_result"
    }
   ],
   "source": [
    "model1.score(X, Y)"
   ]
  },
  {
   "cell_type": "code",
   "execution_count": 15,
   "metadata": {},
   "outputs": [
    {
     "name": "stdout",
     "output_type": "stream",
     "text": [
      "Mean square Error:  1605.6909172921764\n"
     ]
    }
   ],
   "source": [
    "from sklearn.metrics import mean_squared_error, r2_score\n",
    "print(\"Mean square Error: \", mean_squared_error(Y, model1.predict(X)))"
   ]
  },
  {
   "cell_type": "markdown",
   "metadata": {},
   "source": [
    "==> Mean square error is quite small for the output with the range up to thousand"
   ]
  },
  {
   "cell_type": "code",
   "execution_count": 16,
   "metadata": {},
   "outputs": [
    {
     "name": "stdout",
     "output_type": "stream",
     "text": [
      "Variance score:  0.9011520954241361\n"
     ]
    }
   ],
   "source": [
    "print(\"Variance score: \", r2_score(Y_test1, Y_pred1))"
   ]
  },
  {
   "cell_type": "code",
   "execution_count": 17,
   "metadata": {},
   "outputs": [
    {
     "data": {
      "image/png": "[encoded data removed]",
      "text/plain": [
       "<Figure size 720x360 with 1 Axes>"
      ]
     },
     "metadata": {
      "needs_background": "light"
     },
     "output_type": "display_data"
    }
   ],
   "source": [
    "plt.figure(figsize = (10,5))\n",
    "sb.distplot(Y_test1, hist = False, color = 'blue', label = 'Actual data of test part')\n",
    "sb.distplot(Y_pred1, hist = False, color = 'red', label = 'Predicted data of test part')\n",
    "plt.show()"
   ]
  },
  {
   "cell_type": "markdown",
   "metadata": {},
   "source": [
    "==> Ta thấy khi đánh giá tập train và test đều cho ra score rất cao, mô hình không bị overfitting và underfitting. Còn variance score cũng đạt đến 90.1%, cho thấy mô hình Linear Regression rất với bộ dữ liệu trên"
   ]
  },
  {
   "cell_type": "markdown",
   "metadata": {},
   "source": [
    "** Thử chia ra train:test = 8:2"
   ]
  },
  {
   "cell_type": "code",
   "execution_count": 18,
   "metadata": {},
   "outputs": [
    {
     "data": {
      "text/plain": [
       "LinearRegression(copy_X=True, fit_intercept=True, n_jobs=None,\n",
       "         normalize=False)"
      ]
     },
     "execution_count": 18,
     "metadata": {},
     "output_type": "execute_result"
    }
   ],
   "source": [
    "X_train2, X_test2, Y_train2, Y_test2 = train_test_split(X, Y, test_size = 0.2, random_state = 42)\n",
    "\n",
    "model2 = LinearRegression()\n",
    "model2.fit(X_train2, Y_train2)"
   ]
  },
  {
   "cell_type": "code",
   "execution_count": 19,
   "metadata": {},
   "outputs": [],
   "source": [
    "Y_pred2 = model2.predict(X_test2)"
   ]
  },
  {
   "cell_type": "code",
   "execution_count": 20,
   "metadata": {},
   "outputs": [
    {
     "name": "stdout",
     "output_type": "stream",
     "text": [
      "Variance score:  0.9487935601657765\n"
     ]
    }
   ],
   "source": [
    "print(\"Variance score: \", r2_score(Y_test2, Y_pred2))"
   ]
  },
  {
   "cell_type": "code",
   "execution_count": 21,
   "metadata": {},
   "outputs": [
    {
     "data": {
      "text/plain": [
       "1.0"
      ]
     },
     "execution_count": 21,
     "metadata": {},
     "output_type": "execute_result"
    }
   ],
   "source": [
    "model2.score(X_train2, Y_train2)"
   ]
  },
  {
   "cell_type": "code",
   "execution_count": 22,
   "metadata": {},
   "outputs": [
    {
     "data": {
      "text/plain": [
       "0.9487935601657764"
      ]
     },
     "execution_count": 22,
     "metadata": {},
     "output_type": "execute_result"
    }
   ],
   "source": [
    "model2.score(X_test2, Y_test2)"
   ]
  },
  {
   "cell_type": "code",
   "execution_count": 23,
   "metadata": {},
   "outputs": [
    {
     "data": {
      "text/plain": [
       "0.9767916612844302"
      ]
     },
     "execution_count": 23,
     "metadata": {},
     "output_type": "execute_result"
    }
   ],
   "source": [
    "model2.score(X, Y)"
   ]
  },
  {
   "cell_type": "code",
   "execution_count": 24,
   "metadata": {
    "scrolled": true
   },
   "outputs": [
    {
     "name": "stdout",
     "output_type": "stream",
     "text": [
      "Coefficients:  [ 4.04285374e-02  3.49072410e-03  4.00262985e-03  4.22492453e-01\n",
      " -7.49251295e-01  1.43433133e-01  4.89059167e-01 -6.56235827e+00\n",
      "  1.30482504e+01  7.59823530e-01 -1.47519127e+01  1.24284113e+01\n",
      "  2.75681273e+00  1.99556143e+00  7.77071473e+00 -8.80000028e+00\n",
      " -5.48781097e+00 -7.02400343e+00 -8.15561827e+00  1.14386141e+01\n",
      " -3.68296600e+01 -3.54079908e+00 -5.39074754e-01  1.11133829e+01\n",
      " -9.67713632e+00 -8.10277119e+00  9.90878203e+00  5.65110092e+00\n",
      " -1.03047494e+01  1.47471837e+01  9.42783646e+00  1.48493012e+00\n",
      "  4.41932430e-01  8.99329912e-01  1.92598008e+01 -6.03961325e-14\n",
      " -3.35657281e+00 -4.70734562e-14 -2.57743112e+01 -1.02716904e+01\n",
      "  0.00000000e+00 -2.13162821e-14  8.44155665e+00 -2.84217094e-14\n",
      "  6.98844066e+01  1.53431835e+01  5.44207240e+00  9.74072813e-01\n",
      " -5.03807032e+00 -8.95054365e+00  1.14386141e+01  7.92448505e+00\n",
      "  2.00526686e+01 -7.10542736e-15  5.49730087e+00  1.42108547e-14\n",
      " -1.18428011e+01 -1.27540388e+01  1.01602534e+01 -8.52651283e-14\n",
      " -3.87022989e+01  8.88178420e-16 -4.80087025e+01 -3.11002694e+01\n",
      " -2.79172834e+01  2.86437540e-14 -6.56235827e+00  1.13303639e+01\n",
      "  1.35163864e+00 -1.11970724e+01  2.97599039e+01  2.84702834e+01\n",
      " -5.32907052e-15  1.79841201e+00 -2.03088329e+00 -1.59872116e-14\n",
      "  1.26711369e+01  6.67916930e+00  8.08229125e+00 -2.13162821e-14\n",
      " -7.10542736e-15 -2.68518876e+00 -9.20709068e+00  1.62350549e+01\n",
      "  1.91694099e+01  6.65472544e+00 -7.66393403e+00 -2.57119967e+00\n",
      "  2.50856804e+01  1.46865548e+01  1.03476788e+01  1.16747894e+01\n",
      "  3.96017995e-01  2.30926389e-14  4.26325641e-14  9.40171517e+00\n",
      "  1.77396877e+00 -3.11662290e+00 -1.61618322e+01 -3.17016920e+01\n",
      " -7.73779284e+00  1.57370472e+01 -1.93635784e+01 -3.20640640e+01\n",
      "  1.40085155e+01  1.71038601e+01  8.56671588e+00 -7.58304482e+00\n",
      " -3.16541142e+01  3.55271368e-15  1.24284113e+01  1.31615400e+01\n",
      " -4.65036783e+01  1.21520469e+02 -2.22044605e-15  2.22017934e+00\n",
      "  5.58586599e+00 -3.55271368e-15  2.20792642e+01  1.90262119e+01\n",
      "  1.33616506e+01 -2.08172462e+00 -7.10542736e-15 -6.23365825e+00\n",
      " -2.10867441e+01 -3.04850457e+01 -8.16583690e+00  7.10542736e-15\n",
      "  1.44852128e+01 -3.28494714e-01 -1.44234180e+01 -9.90653455e+00\n",
      "  1.57814853e+01  4.18967359e+00  2.33887424e+00  1.25531860e+00\n",
      " -1.08453993e+00 -1.45219428e+01 -1.95604142e+01  7.10542736e-15\n",
      " -1.63164274e+01 -2.12534122e+01  6.06844560e+00  9.42783646e+00\n",
      "  1.06581410e-14 -3.94129174e-15 -1.51975447e+01  1.09605533e+01\n",
      "  2.04896924e+01  5.83152098e+00  6.80963931e+00 -3.55271368e-15\n",
      "  5.31996166e+00 -1.61467285e+00  1.24258658e+01  6.15229342e+00\n",
      " -3.55271368e-15 -1.46855185e+01 -9.17018298e+00 -4.25581441e+01\n",
      " -1.20781728e+01 -5.33585326e+01 -1.60668660e+01 -3.70871799e+01\n",
      " -2.22044605e-16  1.08324993e+02  0.00000000e+00  1.48242069e+01\n",
      "  0.00000000e+00 -1.33360017e+01  9.69533174e+00  8.76445626e+00\n",
      " -6.69842770e+00 -1.04927527e+01 -3.16875374e+00  2.81020744e+00\n",
      " -3.64711137e+01  0.00000000e+00 -1.05840658e+02  3.61107272e+01\n",
      "  2.09498930e+01  1.25444933e+01 -3.96629700e+01 -6.69814429e+00\n",
      "  0.00000000e+00  1.64974289e+00 -8.89919356e-01  1.70003255e+01\n",
      " -7.85426252e-01  0.00000000e+00  1.75405703e+01  0.00000000e+00\n",
      "  1.62930095e+01  1.23757437e+01  1.68299176e+01  1.04721484e+01\n",
      " -1.71581638e+01 -1.07157506e+01 -1.94583045e+01 -4.29331445e+01\n",
      " -2.56759312e+00  6.89499868e+00 -3.88984276e+01  1.14842464e+01\n",
      "  2.32640466e+01  0.00000000e+00 -7.20127443e+00  4.06391265e-01\n",
      " -5.71727068e-01 -3.50608207e+00  0.00000000e+00 -4.48420040e+00\n",
      "  9.55101676e+00  0.00000000e+00  1.33550252e+00 -8.77024601e-01\n",
      " -1.00712645e-01  0.00000000e+00  4.52837035e+00  3.62438058e+01\n",
      "  2.79482184e+01  2.90648989e+00  5.65110092e+00  0.00000000e+00\n",
      "  1.10906044e+00  8.79163459e+00 -1.88470751e+01  5.35607548e+00\n",
      "  1.76959700e+01  1.45822362e+01  0.00000000e+00  5.52459299e+00\n",
      "  2.05215578e+00  0.00000000e+00 -8.74287683e+00 -1.07096329e+01\n",
      "  0.00000000e+00 -1.59184063e+01  0.00000000e+00  3.57115454e+01\n",
      " -2.54484006e+01 -2.73708451e+00  2.72359693e+00 -3.30454946e+00\n",
      "  0.00000000e+00 -3.35657281e+00]\n",
      "Intercept:  -29.201458327148217\n"
     ]
    }
   ],
   "source": [
    "print(\"Coefficients: \", model2.coef_)\n",
    "print(\"Intercept: \", model2.intercept_)"
   ]
  },
  {
   "cell_type": "code",
   "execution_count": 25,
   "metadata": {},
   "outputs": [
    {
     "data": {
      "image/png": "[encoded data removed]",
      "text/plain": [
       "<Figure size 720x360 with 1 Axes>"
      ]
     },
     "metadata": {
      "needs_background": "light"
     },
     "output_type": "display_data"
    }
   ],
   "source": [
    "plt.figure(figsize = (10,5))\n",
    "sb.distplot(Y_test2, hist = False, color = 'blue', label = 'Actual data of test part')\n",
    "sb.distplot(Y_pred2, hist = False, color = 'red', label = 'Predicted data of test part')\n",
    "plt.show()"
   ]
  },
  {
   "cell_type": "markdown",
   "metadata": {},
   "source": [
    "==> Ta thấy chia dữ liệu 8:2 lại nâng cao R2 score lên đến 94.9%"
   ]
  },
  {
   "cell_type": "markdown",
   "metadata": {},
   "source": [
    "** Thử xem một số biến có liên quan tuyến tính với nhau hay không:"
   ]
  },
  {
   "cell_type": "code",
   "execution_count": 26,
   "metadata": {},
   "outputs": [],
   "source": [
    "matrx = pd.DataFrame(plot.iloc[:,:7])\n",
    "corr = pd.DataFrame(matrx.corr())"
   ]
  },
  {
   "cell_type": "code",
   "execution_count": 27,
   "metadata": {},
   "outputs": [
    {
     "data": {
      "text/html": [
       "<div>\n",
       "<style scoped>\n",
       "    .dataframe tbody tr th:only-of-type {\n",
       "        vertical-align: middle;\n",
       "    }\n",
       "\n",
       "    .dataframe tbody tr th {\n",
       "        vertical-align: top;\n",
       "    }\n",
       "\n",
       "    .dataframe thead th {\n",
       "        text-align: right;\n",
       "    }\n",
       "</style>\n",
       "<table border=\"1\" class=\"dataframe\">\n",
       "  <thead>\n",
       "    <tr style=\"text-align: right;\">\n",
       "      <th></th>\n",
       "      <th>2</th>\n",
       "      <th>3</th>\n",
       "      <th>4</th>\n",
       "      <th>5</th>\n",
       "      <th>6</th>\n",
       "      <th>7</th>\n",
       "      <th>8</th>\n",
       "    </tr>\n",
       "  </thead>\n",
       "  <tbody>\n",
       "    <tr>\n",
       "      <th>2</th>\n",
       "      <td>1.000000</td>\n",
       "      <td>-0.335642</td>\n",
       "      <td>-0.378561</td>\n",
       "      <td>-0.321000</td>\n",
       "      <td>-0.301090</td>\n",
       "      <td>-0.250502</td>\n",
       "      <td>-0.307099</td>\n",
       "    </tr>\n",
       "    <tr>\n",
       "      <th>3</th>\n",
       "      <td>-0.335642</td>\n",
       "      <td>1.000000</td>\n",
       "      <td>0.758157</td>\n",
       "      <td>0.534729</td>\n",
       "      <td>0.517189</td>\n",
       "      <td>0.266907</td>\n",
       "      <td>0.794931</td>\n",
       "    </tr>\n",
       "    <tr>\n",
       "      <th>4</th>\n",
       "      <td>-0.378561</td>\n",
       "      <td>0.758157</td>\n",
       "      <td>1.000000</td>\n",
       "      <td>0.537990</td>\n",
       "      <td>0.560513</td>\n",
       "      <td>0.527246</td>\n",
       "      <td>0.863004</td>\n",
       "    </tr>\n",
       "    <tr>\n",
       "      <th>5</th>\n",
       "      <td>-0.321000</td>\n",
       "      <td>0.534729</td>\n",
       "      <td>0.537990</td>\n",
       "      <td>1.000000</td>\n",
       "      <td>0.582245</td>\n",
       "      <td>0.487846</td>\n",
       "      <td>0.662641</td>\n",
       "    </tr>\n",
       "    <tr>\n",
       "      <th>6</th>\n",
       "      <td>-0.301090</td>\n",
       "      <td>0.517189</td>\n",
       "      <td>0.560513</td>\n",
       "      <td>0.582245</td>\n",
       "      <td>1.000000</td>\n",
       "      <td>0.548281</td>\n",
       "      <td>0.608903</td>\n",
       "    </tr>\n",
       "    <tr>\n",
       "      <th>7</th>\n",
       "      <td>-0.250502</td>\n",
       "      <td>0.266907</td>\n",
       "      <td>0.527246</td>\n",
       "      <td>0.487846</td>\n",
       "      <td>0.548281</td>\n",
       "      <td>1.000000</td>\n",
       "      <td>0.605209</td>\n",
       "    </tr>\n",
       "    <tr>\n",
       "      <th>8</th>\n",
       "      <td>-0.307099</td>\n",
       "      <td>0.794931</td>\n",
       "      <td>0.863004</td>\n",
       "      <td>0.662641</td>\n",
       "      <td>0.608903</td>\n",
       "      <td>0.605209</td>\n",
       "      <td>1.000000</td>\n",
       "    </tr>\n",
       "  </tbody>\n",
       "</table>\n",
       "</div>"
      ],
      "text/plain": [
       "          2         3         4         5         6         7         8\n",
       "2  1.000000 -0.335642 -0.378561 -0.321000 -0.301090 -0.250502 -0.307099\n",
       "3 -0.335642  1.000000  0.758157  0.534729  0.517189  0.266907  0.794931\n",
       "4 -0.378561  0.758157  1.000000  0.537990  0.560513  0.527246  0.863004\n",
       "5 -0.321000  0.534729  0.537990  1.000000  0.582245  0.487846  0.662641\n",
       "6 -0.301090  0.517189  0.560513  0.582245  1.000000  0.548281  0.608903\n",
       "7 -0.250502  0.266907  0.527246  0.487846  0.548281  1.000000  0.605209\n",
       "8 -0.307099  0.794931  0.863004  0.662641  0.608903  0.605209  1.000000"
      ]
     },
     "execution_count": 27,
     "metadata": {},
     "output_type": "execute_result"
    }
   ],
   "source": [
    "corr"
   ]
  },
  {
   "cell_type": "code",
   "execution_count": 28,
   "metadata": {},
   "outputs": [
    {
     "data": {
      "text/plain": [
       "<matplotlib.axes._subplots.AxesSubplot at 0x1e602bd0>"
      ]
     },
     "execution_count": 28,
     "metadata": {},
     "output_type": "execute_result"
    },
    {
     "data": {
      "image/png": "[encoded data removed]",
      "text/plain": [
       "<Figure size 432x288 with 2 Axes>"
      ]
     },
     "metadata": {
      "needs_background": "light"
     },
     "output_type": "display_data"
    }
   ],
   "source": [
    "sb.heatmap(corr)"
   ]
  },
  {
   "cell_type": "markdown",
   "metadata": {},
   "source": [
    "==> Dữ liệu cũng ít features liên quan tuyến tính với nhau, chỉ có 3 liên quan đến 8 và 4, nên em thử bỏ feature 3 để xem độ chính xác"
   ]
  },
  {
   "cell_type": "code",
   "execution_count": 29,
   "metadata": {},
   "outputs": [
    {
     "data": {
      "text/html": [
       "<div>\n",
       "<style scoped>\n",
       "    .dataframe tbody tr th:only-of-type {\n",
       "        vertical-align: middle;\n",
       "    }\n",
       "\n",
       "    .dataframe tbody tr th {\n",
       "        vertical-align: top;\n",
       "    }\n",
       "\n",
       "    .dataframe thead th {\n",
       "        text-align: right;\n",
       "    }\n",
       "</style>\n",
       "<table border=\"1\" class=\"dataframe\">\n",
       "  <thead>\n",
       "    <tr style=\"text-align: right;\">\n",
       "      <th></th>\n",
       "      <th>2</th>\n",
       "      <th>4</th>\n",
       "      <th>5</th>\n",
       "      <th>6</th>\n",
       "      <th>7</th>\n",
       "      <th>8</th>\n",
       "      <th>0_adviser</th>\n",
       "      <th>0_amdahl</th>\n",
       "      <th>0_apollo</th>\n",
       "      <th>0_basf</th>\n",
       "      <th>...</th>\n",
       "      <th>1_v8635</th>\n",
       "      <th>1_v8650</th>\n",
       "      <th>1_v8655</th>\n",
       "      <th>1_v8665</th>\n",
       "      <th>1_v8670</th>\n",
       "      <th>1_vax:11/730</th>\n",
       "      <th>1_vax:11/750</th>\n",
       "      <th>1_vax:11/780</th>\n",
       "      <th>1_vs-100</th>\n",
       "      <th>1_vs-90</th>\n",
       "    </tr>\n",
       "  </thead>\n",
       "  <tbody>\n",
       "    <tr>\n",
       "      <th>0</th>\n",
       "      <td>125</td>\n",
       "      <td>6000</td>\n",
       "      <td>256</td>\n",
       "      <td>16</td>\n",
       "      <td>128</td>\n",
       "      <td>198</td>\n",
       "      <td>1</td>\n",
       "      <td>0</td>\n",
       "      <td>0</td>\n",
       "      <td>0</td>\n",
       "      <td>...</td>\n",
       "      <td>0</td>\n",
       "      <td>0</td>\n",
       "      <td>0</td>\n",
       "      <td>0</td>\n",
       "      <td>0</td>\n",
       "      <td>0</td>\n",
       "      <td>0</td>\n",
       "      <td>0</td>\n",
       "      <td>0</td>\n",
       "      <td>0</td>\n",
       "    </tr>\n",
       "    <tr>\n",
       "      <th>1</th>\n",
       "      <td>29</td>\n",
       "      <td>32000</td>\n",
       "      <td>32</td>\n",
       "      <td>8</td>\n",
       "      <td>32</td>\n",
       "      <td>269</td>\n",
       "      <td>0</td>\n",
       "      <td>1</td>\n",
       "      <td>0</td>\n",
       "      <td>0</td>\n",
       "      <td>...</td>\n",
       "      <td>0</td>\n",
       "      <td>0</td>\n",
       "      <td>0</td>\n",
       "      <td>0</td>\n",
       "      <td>0</td>\n",
       "      <td>0</td>\n",
       "      <td>0</td>\n",
       "      <td>0</td>\n",
       "      <td>0</td>\n",
       "      <td>0</td>\n",
       "    </tr>\n",
       "    <tr>\n",
       "      <th>2</th>\n",
       "      <td>29</td>\n",
       "      <td>32000</td>\n",
       "      <td>32</td>\n",
       "      <td>8</td>\n",
       "      <td>32</td>\n",
       "      <td>220</td>\n",
       "      <td>0</td>\n",
       "      <td>1</td>\n",
       "      <td>0</td>\n",
       "      <td>0</td>\n",
       "      <td>...</td>\n",
       "      <td>0</td>\n",
       "      <td>0</td>\n",
       "      <td>0</td>\n",
       "      <td>0</td>\n",
       "      <td>0</td>\n",
       "      <td>0</td>\n",
       "      <td>0</td>\n",
       "      <td>0</td>\n",
       "      <td>0</td>\n",
       "      <td>0</td>\n",
       "    </tr>\n",
       "    <tr>\n",
       "      <th>3</th>\n",
       "      <td>29</td>\n",
       "      <td>32000</td>\n",
       "      <td>32</td>\n",
       "      <td>8</td>\n",
       "      <td>32</td>\n",
       "      <td>172</td>\n",
       "      <td>0</td>\n",
       "      <td>1</td>\n",
       "      <td>0</td>\n",
       "      <td>0</td>\n",
       "      <td>...</td>\n",
       "      <td>0</td>\n",
       "      <td>0</td>\n",
       "      <td>0</td>\n",
       "      <td>0</td>\n",
       "      <td>0</td>\n",
       "      <td>0</td>\n",
       "      <td>0</td>\n",
       "      <td>0</td>\n",
       "      <td>0</td>\n",
       "      <td>0</td>\n",
       "    </tr>\n",
       "    <tr>\n",
       "      <th>4</th>\n",
       "      <td>29</td>\n",
       "      <td>16000</td>\n",
       "      <td>32</td>\n",
       "      <td>8</td>\n",
       "      <td>16</td>\n",
       "      <td>132</td>\n",
       "      <td>0</td>\n",
       "      <td>1</td>\n",
       "      <td>0</td>\n",
       "      <td>0</td>\n",
       "      <td>...</td>\n",
       "      <td>0</td>\n",
       "      <td>0</td>\n",
       "      <td>0</td>\n",
       "      <td>0</td>\n",
       "      <td>0</td>\n",
       "      <td>0</td>\n",
       "      <td>0</td>\n",
       "      <td>0</td>\n",
       "      <td>0</td>\n",
       "      <td>0</td>\n",
       "    </tr>\n",
       "  </tbody>\n",
       "</table>\n",
       "<p>5 rows × 245 columns</p>\n",
       "</div>"
      ],
      "text/plain": [
       "     2      4    5   6    7    8  0_adviser  0_amdahl  0_apollo  0_basf  ...  \\\n",
       "0  125   6000  256  16  128  198          1         0         0       0  ...   \n",
       "1   29  32000   32   8   32  269          0         1         0       0  ...   \n",
       "2   29  32000   32   8   32  220          0         1         0       0  ...   \n",
       "3   29  32000   32   8   32  172          0         1         0       0  ...   \n",
       "4   29  16000   32   8   16  132          0         1         0       0  ...   \n",
       "\n",
       "   1_v8635  1_v8650  1_v8655  1_v8665  1_v8670  1_vax:11/730  1_vax:11/750  \\\n",
       "0        0        0        0        0        0             0             0   \n",
       "1        0        0        0        0        0             0             0   \n",
       "2        0        0        0        0        0             0             0   \n",
       "3        0        0        0        0        0             0             0   \n",
       "4        0        0        0        0        0             0             0   \n",
       "\n",
       "   1_vax:11/780  1_vs-100  1_vs-90  \n",
       "0             0         0        0  \n",
       "1             0         0        0  \n",
       "2             0         0        0  \n",
       "3             0         0        0  \n",
       "4             0         0        0  \n",
       "\n",
       "[5 rows x 245 columns]"
      ]
     },
     "execution_count": 29,
     "metadata": {},
     "output_type": "execute_result"
    }
   ],
   "source": [
    "X_drop3 = X.drop(3, axis = 1)\n",
    "X_drop3.head()"
   ]
  },
  {
   "cell_type": "code",
   "execution_count": 30,
   "metadata": {},
   "outputs": [],
   "source": [
    "Y_drop3 = Y"
   ]
  },
  {
   "cell_type": "code",
   "execution_count": 31,
   "metadata": {},
   "outputs": [
    {
     "data": {
      "text/plain": [
       "LinearRegression(copy_X=True, fit_intercept=True, n_jobs=None,\n",
       "         normalize=False)"
      ]
     },
     "execution_count": 31,
     "metadata": {},
     "output_type": "execute_result"
    }
   ],
   "source": [
    "X_train3, X_test3, Y_train3, Y_test3 = train_test_split(X_drop3, Y_drop3, test_size = 0.2, random_state = 42)\n",
    "\n",
    "model3 = LinearRegression()\n",
    "model3.fit(X_train3, Y_train3)"
   ]
  },
  {
   "cell_type": "code",
   "execution_count": 32,
   "metadata": {},
   "outputs": [],
   "source": [
    "Y_pred3 = model3.predict(X_test3)"
   ]
  },
  {
   "cell_type": "code",
   "execution_count": 33,
   "metadata": {},
   "outputs": [
    {
     "name": "stdout",
     "output_type": "stream",
     "text": [
      "Variance score:  0.94162331499881\n"
     ]
    }
   ],
   "source": [
    "print(\"Variance score: \", r2_score(Y_test3, Y_pred3))"
   ]
  },
  {
   "cell_type": "code",
   "execution_count": 34,
   "metadata": {},
   "outputs": [
    {
     "data": {
      "text/plain": [
       "1.0"
      ]
     },
     "execution_count": 34,
     "metadata": {},
     "output_type": "execute_result"
    }
   ],
   "source": [
    "model3.score(X_train3, Y_train3)"
   ]
  },
  {
   "cell_type": "code",
   "execution_count": 35,
   "metadata": {},
   "outputs": [
    {
     "data": {
      "text/plain": [
       "0.94162331499881"
      ]
     },
     "execution_count": 35,
     "metadata": {},
     "output_type": "execute_result"
    }
   ],
   "source": [
    "model3.score(X_test3, Y_test3)"
   ]
  },
  {
   "cell_type": "code",
   "execution_count": 36,
   "metadata": {},
   "outputs": [
    {
     "data": {
      "text/plain": [
       "0.9767916612844302"
      ]
     },
     "execution_count": 36,
     "metadata": {},
     "output_type": "execute_result"
    }
   ],
   "source": [
    "model2.score(X, Y)"
   ]
  },
  {
   "cell_type": "markdown",
   "metadata": {},
   "source": [
    "==> Ta thấy r2 score giảm một chút sau khi bỏ đi feature đó, nên ta vẫn giữ nguyên data cũ 8:2 bên trên "
   ]
  },
  {
   "cell_type": "markdown",
   "metadata": {},
   "source": [
    "** Bước scaling dữ liệu:"
   ]
  },
  {
   "cell_type": "code",
   "execution_count": 37,
   "metadata": {},
   "outputs": [
    {
     "name": "stderr",
     "output_type": "stream",
     "text": [
      "c:\\users\\khang\\appdata\\local\\programs\\python\\python37-32\\lib\\site-packages\\sklearn\\preprocessing\\data.py:645: DataConversionWarning: Data with input dtype int64 were all converted to float64 by StandardScaler.\n",
      "  return self.partial_fit(X, y)\n",
      "c:\\users\\khang\\appdata\\local\\programs\\python\\python37-32\\lib\\site-packages\\sklearn\\base.py:464: DataConversionWarning: Data with input dtype int64 were all converted to float64 by StandardScaler.\n",
      "  return self.fit(X, **fit_params).transform(X)\n"
     ]
    },
    {
     "data": {
      "text/html": [
       "<div>\n",
       "<style scoped>\n",
       "    .dataframe tbody tr th:only-of-type {\n",
       "        vertical-align: middle;\n",
       "    }\n",
       "\n",
       "    .dataframe tbody tr th {\n",
       "        vertical-align: top;\n",
       "    }\n",
       "\n",
       "    .dataframe thead th {\n",
       "        text-align: right;\n",
       "    }\n",
       "</style>\n",
       "<table border=\"1\" class=\"dataframe\">\n",
       "  <thead>\n",
       "    <tr style=\"text-align: right;\">\n",
       "      <th></th>\n",
       "      <th>2</th>\n",
       "      <th>3</th>\n",
       "      <th>4</th>\n",
       "      <th>5</th>\n",
       "      <th>6</th>\n",
       "      <th>7</th>\n",
       "      <th>8</th>\n",
       "      <th>0_adviser</th>\n",
       "      <th>0_amdahl</th>\n",
       "      <th>0_apollo</th>\n",
       "      <th>...</th>\n",
       "      <th>1_v8635</th>\n",
       "      <th>1_v8650</th>\n",
       "      <th>1_v8655</th>\n",
       "      <th>1_v8665</th>\n",
       "      <th>1_v8670</th>\n",
       "      <th>1_vax:11/730</th>\n",
       "      <th>1_vax:11/750</th>\n",
       "      <th>1_vax:11/780</th>\n",
       "      <th>1_vs-100</th>\n",
       "      <th>1_vs-90</th>\n",
       "    </tr>\n",
       "  </thead>\n",
       "  <tbody>\n",
       "    <tr>\n",
       "      <th>0</th>\n",
       "      <td>-0.303586</td>\n",
       "      <td>-0.675026</td>\n",
       "      <td>-0.495462</td>\n",
       "      <td>5.694208</td>\n",
       "      <td>1.661989</td>\n",
       "      <td>4.231033</td>\n",
       "      <td>0.575759</td>\n",
       "      <td>1</td>\n",
       "      <td>0</td>\n",
       "      <td>0</td>\n",
       "      <td>...</td>\n",
       "      <td>0</td>\n",
       "      <td>0</td>\n",
       "      <td>0</td>\n",
       "      <td>0</td>\n",
       "      <td>0</td>\n",
       "      <td>0</td>\n",
       "      <td>0</td>\n",
       "      <td>0</td>\n",
       "      <td>0</td>\n",
       "      <td>0</td>\n",
       "    </tr>\n",
       "    <tr>\n",
       "      <th>1</th>\n",
       "      <td>-0.673330</td>\n",
       "      <td>1.326291</td>\n",
       "      <td>1.727049</td>\n",
       "      <td>0.167629</td>\n",
       "      <td>0.485509</td>\n",
       "      <td>0.529479</td>\n",
       "      <td>1.018277</td>\n",
       "      <td>0</td>\n",
       "      <td>1</td>\n",
       "      <td>0</td>\n",
       "      <td>...</td>\n",
       "      <td>0</td>\n",
       "      <td>0</td>\n",
       "      <td>0</td>\n",
       "      <td>0</td>\n",
       "      <td>0</td>\n",
       "      <td>0</td>\n",
       "      <td>0</td>\n",
       "      <td>0</td>\n",
       "      <td>0</td>\n",
       "      <td>0</td>\n",
       "    </tr>\n",
       "    <tr>\n",
       "      <th>2</th>\n",
       "      <td>-0.673330</td>\n",
       "      <td>1.326291</td>\n",
       "      <td>1.727049</td>\n",
       "      <td>0.167629</td>\n",
       "      <td>0.485509</td>\n",
       "      <td>0.529479</td>\n",
       "      <td>0.712877</td>\n",
       "      <td>0</td>\n",
       "      <td>1</td>\n",
       "      <td>0</td>\n",
       "      <td>...</td>\n",
       "      <td>0</td>\n",
       "      <td>0</td>\n",
       "      <td>0</td>\n",
       "      <td>0</td>\n",
       "      <td>0</td>\n",
       "      <td>0</td>\n",
       "      <td>0</td>\n",
       "      <td>0</td>\n",
       "      <td>0</td>\n",
       "      <td>0</td>\n",
       "    </tr>\n",
       "    <tr>\n",
       "      <th>3</th>\n",
       "      <td>-0.673330</td>\n",
       "      <td>1.326291</td>\n",
       "      <td>1.727049</td>\n",
       "      <td>0.167629</td>\n",
       "      <td>0.485509</td>\n",
       "      <td>0.529479</td>\n",
       "      <td>0.413710</td>\n",
       "      <td>0</td>\n",
       "      <td>1</td>\n",
       "      <td>0</td>\n",
       "      <td>...</td>\n",
       "      <td>0</td>\n",
       "      <td>0</td>\n",
       "      <td>0</td>\n",
       "      <td>0</td>\n",
       "      <td>0</td>\n",
       "      <td>0</td>\n",
       "      <td>0</td>\n",
       "      <td>0</td>\n",
       "      <td>0</td>\n",
       "      <td>0</td>\n",
       "    </tr>\n",
       "    <tr>\n",
       "      <th>4</th>\n",
       "      <td>-0.673330</td>\n",
       "      <td>1.326291</td>\n",
       "      <td>0.359350</td>\n",
       "      <td>0.167629</td>\n",
       "      <td>0.485509</td>\n",
       "      <td>-0.087447</td>\n",
       "      <td>0.164405</td>\n",
       "      <td>0</td>\n",
       "      <td>1</td>\n",
       "      <td>0</td>\n",
       "      <td>...</td>\n",
       "      <td>0</td>\n",
       "      <td>0</td>\n",
       "      <td>0</td>\n",
       "      <td>0</td>\n",
       "      <td>0</td>\n",
       "      <td>0</td>\n",
       "      <td>0</td>\n",
       "      <td>0</td>\n",
       "      <td>0</td>\n",
       "      <td>0</td>\n",
       "    </tr>\n",
       "  </tbody>\n",
       "</table>\n",
       "<p>5 rows × 246 columns</p>\n",
       "</div>"
      ],
      "text/plain": [
       "          2         3         4         5         6         7         8  \\\n",
       "0 -0.303586 -0.675026 -0.495462  5.694208  1.661989  4.231033  0.575759   \n",
       "1 -0.673330  1.326291  1.727049  0.167629  0.485509  0.529479  1.018277   \n",
       "2 -0.673330  1.326291  1.727049  0.167629  0.485509  0.529479  0.712877   \n",
       "3 -0.673330  1.326291  1.727049  0.167629  0.485509  0.529479  0.413710   \n",
       "4 -0.673330  1.326291  0.359350  0.167629  0.485509 -0.087447  0.164405   \n",
       "\n",
       "   0_adviser  0_amdahl  0_apollo  ...  1_v8635  1_v8650  1_v8655  1_v8665  \\\n",
       "0          1         0         0  ...        0        0        0        0   \n",
       "1          0         1         0  ...        0        0        0        0   \n",
       "2          0         1         0  ...        0        0        0        0   \n",
       "3          0         1         0  ...        0        0        0        0   \n",
       "4          0         1         0  ...        0        0        0        0   \n",
       "\n",
       "   1_v8670  1_vax:11/730  1_vax:11/750  1_vax:11/780  1_vs-100  1_vs-90  \n",
       "0        0             0             0             0         0        0  \n",
       "1        0             0             0             0         0        0  \n",
       "2        0             0             0             0         0        0  \n",
       "3        0             0             0             0         0        0  \n",
       "4        0             0             0             0         0        0  \n",
       "\n",
       "[5 rows x 246 columns]"
      ]
     },
     "execution_count": 37,
     "metadata": {},
     "output_type": "execute_result"
    }
   ],
   "source": [
    "from sklearn.preprocessing import StandardScaler\n",
    "\n",
    "scaler = StandardScaler()\n",
    "\n",
    "X_scale1 = X\n",
    "X_scale1.iloc[:,:7] = scaler.fit_transform(X.iloc[:,:7])\n",
    "pd.DataFrame(X_scale1).head()"
   ]
  },
  {
   "cell_type": "code",
   "execution_count": 38,
   "metadata": {},
   "outputs": [
    {
     "data": {
      "text/plain": [
       "LinearRegression(copy_X=True, fit_intercept=True, n_jobs=None,\n",
       "         normalize=False)"
      ]
     },
     "execution_count": 38,
     "metadata": {},
     "output_type": "execute_result"
    }
   ],
   "source": [
    "X_train4, X_test4, Y_train4, Y_test4 = train_test_split(X_scale1, Y, test_size = 0.2, random_state = 42)\n",
    "\n",
    "model4 = LinearRegression()\n",
    "model4.fit(X_train4, Y_train4)"
   ]
  },
  {
   "cell_type": "code",
   "execution_count": 39,
   "metadata": {},
   "outputs": [],
   "source": [
    "Y_pred4 = model4.predict(X_test4)"
   ]
  },
  {
   "cell_type": "code",
   "execution_count": 40,
   "metadata": {},
   "outputs": [
    {
     "name": "stdout",
     "output_type": "stream",
     "text": [
      "Variance score:  0.9473215694419305\n"
     ]
    }
   ],
   "source": [
    "print(\"Variance score: \", r2_score(Y_test4, Y_pred4))"
   ]
  },
  {
   "cell_type": "code",
   "execution_count": 41,
   "metadata": {},
   "outputs": [
    {
     "data": {
      "text/plain": [
       "1.0"
      ]
     },
     "execution_count": 41,
     "metadata": {},
     "output_type": "execute_result"
    }
   ],
   "source": [
    "model4.score(X_train4, Y_train4)"
   ]
  },
  {
   "cell_type": "code",
   "execution_count": 42,
   "metadata": {},
   "outputs": [
    {
     "data": {
      "text/plain": [
       "0.9473215694419305"
      ]
     },
     "execution_count": 42,
     "metadata": {},
     "output_type": "execute_result"
    }
   ],
   "source": [
    "model4.score(X_test4, Y_test4)"
   ]
  },
  {
   "cell_type": "code",
   "execution_count": 43,
   "metadata": {},
   "outputs": [
    {
     "data": {
      "text/html": [
       "<div>\n",
       "<style scoped>\n",
       "    .dataframe tbody tr th:only-of-type {\n",
       "        vertical-align: middle;\n",
       "    }\n",
       "\n",
       "    .dataframe tbody tr th {\n",
       "        vertical-align: top;\n",
       "    }\n",
       "\n",
       "    .dataframe thead th {\n",
       "        text-align: right;\n",
       "    }\n",
       "</style>\n",
       "<table border=\"1\" class=\"dataframe\">\n",
       "  <thead>\n",
       "    <tr style=\"text-align: right;\">\n",
       "      <th></th>\n",
       "      <th>2</th>\n",
       "      <th>3</th>\n",
       "      <th>4</th>\n",
       "      <th>5</th>\n",
       "      <th>6</th>\n",
       "      <th>7</th>\n",
       "      <th>8</th>\n",
       "      <th>0_adviser</th>\n",
       "      <th>0_amdahl</th>\n",
       "      <th>0_apollo</th>\n",
       "      <th>...</th>\n",
       "      <th>1_v8635</th>\n",
       "      <th>1_v8650</th>\n",
       "      <th>1_v8655</th>\n",
       "      <th>1_v8665</th>\n",
       "      <th>1_v8670</th>\n",
       "      <th>1_vax:11/730</th>\n",
       "      <th>1_vax:11/750</th>\n",
       "      <th>1_vax:11/780</th>\n",
       "      <th>1_vs-100</th>\n",
       "      <th>1_vs-90</th>\n",
       "    </tr>\n",
       "  </thead>\n",
       "  <tbody>\n",
       "    <tr>\n",
       "      <th>0</th>\n",
       "      <td>0.072825</td>\n",
       "      <td>0.006012</td>\n",
       "      <td>0.092843</td>\n",
       "      <td>1.000</td>\n",
       "      <td>0.307692</td>\n",
       "      <td>0.727273</td>\n",
       "      <td>0.167832</td>\n",
       "      <td>1</td>\n",
       "      <td>0</td>\n",
       "      <td>0</td>\n",
       "      <td>...</td>\n",
       "      <td>0</td>\n",
       "      <td>0</td>\n",
       "      <td>0</td>\n",
       "      <td>0</td>\n",
       "      <td>0</td>\n",
       "      <td>0</td>\n",
       "      <td>0</td>\n",
       "      <td>0</td>\n",
       "      <td>0</td>\n",
       "      <td>0</td>\n",
       "    </tr>\n",
       "    <tr>\n",
       "      <th>1</th>\n",
       "      <td>0.008092</td>\n",
       "      <td>0.248497</td>\n",
       "      <td>0.499499</td>\n",
       "      <td>0.125</td>\n",
       "      <td>0.153846</td>\n",
       "      <td>0.181818</td>\n",
       "      <td>0.229895</td>\n",
       "      <td>0</td>\n",
       "      <td>1</td>\n",
       "      <td>0</td>\n",
       "      <td>...</td>\n",
       "      <td>0</td>\n",
       "      <td>0</td>\n",
       "      <td>0</td>\n",
       "      <td>0</td>\n",
       "      <td>0</td>\n",
       "      <td>0</td>\n",
       "      <td>0</td>\n",
       "      <td>0</td>\n",
       "      <td>0</td>\n",
       "      <td>0</td>\n",
       "    </tr>\n",
       "    <tr>\n",
       "      <th>2</th>\n",
       "      <td>0.008092</td>\n",
       "      <td>0.248497</td>\n",
       "      <td>0.499499</td>\n",
       "      <td>0.125</td>\n",
       "      <td>0.153846</td>\n",
       "      <td>0.181818</td>\n",
       "      <td>0.187063</td>\n",
       "      <td>0</td>\n",
       "      <td>1</td>\n",
       "      <td>0</td>\n",
       "      <td>...</td>\n",
       "      <td>0</td>\n",
       "      <td>0</td>\n",
       "      <td>0</td>\n",
       "      <td>0</td>\n",
       "      <td>0</td>\n",
       "      <td>0</td>\n",
       "      <td>0</td>\n",
       "      <td>0</td>\n",
       "      <td>0</td>\n",
       "      <td>0</td>\n",
       "    </tr>\n",
       "    <tr>\n",
       "      <th>3</th>\n",
       "      <td>0.008092</td>\n",
       "      <td>0.248497</td>\n",
       "      <td>0.499499</td>\n",
       "      <td>0.125</td>\n",
       "      <td>0.153846</td>\n",
       "      <td>0.181818</td>\n",
       "      <td>0.145105</td>\n",
       "      <td>0</td>\n",
       "      <td>1</td>\n",
       "      <td>0</td>\n",
       "      <td>...</td>\n",
       "      <td>0</td>\n",
       "      <td>0</td>\n",
       "      <td>0</td>\n",
       "      <td>0</td>\n",
       "      <td>0</td>\n",
       "      <td>0</td>\n",
       "      <td>0</td>\n",
       "      <td>0</td>\n",
       "      <td>0</td>\n",
       "      <td>0</td>\n",
       "    </tr>\n",
       "    <tr>\n",
       "      <th>4</th>\n",
       "      <td>0.008092</td>\n",
       "      <td>0.248497</td>\n",
       "      <td>0.249249</td>\n",
       "      <td>0.125</td>\n",
       "      <td>0.153846</td>\n",
       "      <td>0.090909</td>\n",
       "      <td>0.110140</td>\n",
       "      <td>0</td>\n",
       "      <td>1</td>\n",
       "      <td>0</td>\n",
       "      <td>...</td>\n",
       "      <td>0</td>\n",
       "      <td>0</td>\n",
       "      <td>0</td>\n",
       "      <td>0</td>\n",
       "      <td>0</td>\n",
       "      <td>0</td>\n",
       "      <td>0</td>\n",
       "      <td>0</td>\n",
       "      <td>0</td>\n",
       "      <td>0</td>\n",
       "    </tr>\n",
       "  </tbody>\n",
       "</table>\n",
       "<p>5 rows × 246 columns</p>\n",
       "</div>"
      ],
      "text/plain": [
       "          2         3         4      5         6         7         8  \\\n",
       "0  0.072825  0.006012  0.092843  1.000  0.307692  0.727273  0.167832   \n",
       "1  0.008092  0.248497  0.499499  0.125  0.153846  0.181818  0.229895   \n",
       "2  0.008092  0.248497  0.499499  0.125  0.153846  0.181818  0.187063   \n",
       "3  0.008092  0.248497  0.499499  0.125  0.153846  0.181818  0.145105   \n",
       "4  0.008092  0.248497  0.249249  0.125  0.153846  0.090909  0.110140   \n",
       "\n",
       "   0_adviser  0_amdahl  0_apollo  ...  1_v8635  1_v8650  1_v8655  1_v8665  \\\n",
       "0          1         0         0  ...        0        0        0        0   \n",
       "1          0         1         0  ...        0        0        0        0   \n",
       "2          0         1         0  ...        0        0        0        0   \n",
       "3          0         1         0  ...        0        0        0        0   \n",
       "4          0         1         0  ...        0        0        0        0   \n",
       "\n",
       "   1_v8670  1_vax:11/730  1_vax:11/750  1_vax:11/780  1_vs-100  1_vs-90  \n",
       "0        0             0             0             0         0        0  \n",
       "1        0             0             0             0         0        0  \n",
       "2        0             0             0             0         0        0  \n",
       "3        0             0             0             0         0        0  \n",
       "4        0             0             0             0         0        0  \n",
       "\n",
       "[5 rows x 246 columns]"
      ]
     },
     "execution_count": 43,
     "metadata": {},
     "output_type": "execute_result"
    }
   ],
   "source": [
    "from sklearn.preprocessing import MinMaxScaler\n",
    "\n",
    "scaler = MinMaxScaler()\n",
    "\n",
    "X_scale2 = X\n",
    "X_scale2.iloc[:,:7] = scaler.fit_transform(X.iloc[:,:7])\n",
    "pd.DataFrame(X_scale2).head()"
   ]
  },
  {
   "cell_type": "code",
   "execution_count": 44,
   "metadata": {},
   "outputs": [
    {
     "data": {
      "text/plain": [
       "LinearRegression(copy_X=True, fit_intercept=True, n_jobs=None,\n",
       "         normalize=False)"
      ]
     },
     "execution_count": 44,
     "metadata": {},
     "output_type": "execute_result"
    }
   ],
   "source": [
    "X_train5, X_test5, Y_train5, Y_test5 = train_test_split(X_scale2, Y, test_size = 0.2, random_state = 42)\n",
    "\n",
    "model5 = LinearRegression()\n",
    "model5.fit(X_train5, Y_train5)"
   ]
  },
  {
   "cell_type": "code",
   "execution_count": 45,
   "metadata": {},
   "outputs": [],
   "source": [
    "Y_pred5 = model5.predict(X_test5)"
   ]
  },
  {
   "cell_type": "code",
   "execution_count": 46,
   "metadata": {},
   "outputs": [
    {
     "name": "stdout",
     "output_type": "stream",
     "text": [
      "Variance score:  0.888075127119343\n"
     ]
    }
   ],
   "source": [
    "print(\"Variance score: \", r2_score(Y_test5, Y_pred5))"
   ]
  },
  {
   "cell_type": "code",
   "execution_count": 47,
   "metadata": {},
   "outputs": [
    {
     "data": {
      "text/html": [
       "<div>\n",
       "<style scoped>\n",
       "    .dataframe tbody tr th:only-of-type {\n",
       "        vertical-align: middle;\n",
       "    }\n",
       "\n",
       "    .dataframe tbody tr th {\n",
       "        vertical-align: top;\n",
       "    }\n",
       "\n",
       "    .dataframe thead th {\n",
       "        text-align: right;\n",
       "    }\n",
       "</style>\n",
       "<table border=\"1\" class=\"dataframe\">\n",
       "  <thead>\n",
       "    <tr style=\"text-align: right;\">\n",
       "      <th></th>\n",
       "      <th>2</th>\n",
       "      <th>3</th>\n",
       "      <th>4</th>\n",
       "      <th>5</th>\n",
       "      <th>6</th>\n",
       "      <th>7</th>\n",
       "      <th>8</th>\n",
       "      <th>0_adviser</th>\n",
       "      <th>0_amdahl</th>\n",
       "      <th>0_apollo</th>\n",
       "      <th>...</th>\n",
       "      <th>1_v8635</th>\n",
       "      <th>1_v8650</th>\n",
       "      <th>1_v8655</th>\n",
       "      <th>1_v8665</th>\n",
       "      <th>1_v8670</th>\n",
       "      <th>1_vax:11/730</th>\n",
       "      <th>1_vax:11/750</th>\n",
       "      <th>1_vax:11/780</th>\n",
       "      <th>1_vs-100</th>\n",
       "      <th>1_vs-90</th>\n",
       "    </tr>\n",
       "  </thead>\n",
       "  <tbody>\n",
       "    <tr>\n",
       "      <th>0</th>\n",
       "      <td>0.085714</td>\n",
       "      <td>-0.539604</td>\n",
       "      <td>-0.166667</td>\n",
       "      <td>7.75</td>\n",
       "      <td>2.8</td>\n",
       "      <td>6.315789</td>\n",
       "      <td>1.720930</td>\n",
       "      <td>1</td>\n",
       "      <td>0</td>\n",
       "      <td>0</td>\n",
       "      <td>...</td>\n",
       "      <td>0</td>\n",
       "      <td>0</td>\n",
       "      <td>0</td>\n",
       "      <td>0</td>\n",
       "      <td>0</td>\n",
       "      <td>0</td>\n",
       "      <td>0</td>\n",
       "      <td>0</td>\n",
       "      <td>0</td>\n",
       "      <td>0</td>\n",
       "    </tr>\n",
       "    <tr>\n",
       "      <th>1</th>\n",
       "      <td>-0.462857</td>\n",
       "      <td>1.856436</td>\n",
       "      <td>2.000000</td>\n",
       "      <td>0.75</td>\n",
       "      <td>1.2</td>\n",
       "      <td>1.263158</td>\n",
       "      <td>2.546512</td>\n",
       "      <td>0</td>\n",
       "      <td>1</td>\n",
       "      <td>0</td>\n",
       "      <td>...</td>\n",
       "      <td>0</td>\n",
       "      <td>0</td>\n",
       "      <td>0</td>\n",
       "      <td>0</td>\n",
       "      <td>0</td>\n",
       "      <td>0</td>\n",
       "      <td>0</td>\n",
       "      <td>0</td>\n",
       "      <td>0</td>\n",
       "      <td>0</td>\n",
       "    </tr>\n",
       "    <tr>\n",
       "      <th>2</th>\n",
       "      <td>-0.462857</td>\n",
       "      <td>1.856436</td>\n",
       "      <td>2.000000</td>\n",
       "      <td>0.75</td>\n",
       "      <td>1.2</td>\n",
       "      <td>1.263158</td>\n",
       "      <td>1.976744</td>\n",
       "      <td>0</td>\n",
       "      <td>1</td>\n",
       "      <td>0</td>\n",
       "      <td>...</td>\n",
       "      <td>0</td>\n",
       "      <td>0</td>\n",
       "      <td>0</td>\n",
       "      <td>0</td>\n",
       "      <td>0</td>\n",
       "      <td>0</td>\n",
       "      <td>0</td>\n",
       "      <td>0</td>\n",
       "      <td>0</td>\n",
       "      <td>0</td>\n",
       "    </tr>\n",
       "    <tr>\n",
       "      <th>3</th>\n",
       "      <td>-0.462857</td>\n",
       "      <td>1.856436</td>\n",
       "      <td>2.000000</td>\n",
       "      <td>0.75</td>\n",
       "      <td>1.2</td>\n",
       "      <td>1.263158</td>\n",
       "      <td>1.418605</td>\n",
       "      <td>0</td>\n",
       "      <td>1</td>\n",
       "      <td>0</td>\n",
       "      <td>...</td>\n",
       "      <td>0</td>\n",
       "      <td>0</td>\n",
       "      <td>0</td>\n",
       "      <td>0</td>\n",
       "      <td>0</td>\n",
       "      <td>0</td>\n",
       "      <td>0</td>\n",
       "      <td>0</td>\n",
       "      <td>0</td>\n",
       "      <td>0</td>\n",
       "    </tr>\n",
       "    <tr>\n",
       "      <th>4</th>\n",
       "      <td>-0.462857</td>\n",
       "      <td>1.856436</td>\n",
       "      <td>0.666667</td>\n",
       "      <td>0.75</td>\n",
       "      <td>1.2</td>\n",
       "      <td>0.421053</td>\n",
       "      <td>0.953488</td>\n",
       "      <td>0</td>\n",
       "      <td>1</td>\n",
       "      <td>0</td>\n",
       "      <td>...</td>\n",
       "      <td>0</td>\n",
       "      <td>0</td>\n",
       "      <td>0</td>\n",
       "      <td>0</td>\n",
       "      <td>0</td>\n",
       "      <td>0</td>\n",
       "      <td>0</td>\n",
       "      <td>0</td>\n",
       "      <td>0</td>\n",
       "      <td>0</td>\n",
       "    </tr>\n",
       "  </tbody>\n",
       "</table>\n",
       "<p>5 rows × 246 columns</p>\n",
       "</div>"
      ],
      "text/plain": [
       "          2         3         4     5    6         7         8  0_adviser  \\\n",
       "0  0.085714 -0.539604 -0.166667  7.75  2.8  6.315789  1.720930          1   \n",
       "1 -0.462857  1.856436  2.000000  0.75  1.2  1.263158  2.546512          0   \n",
       "2 -0.462857  1.856436  2.000000  0.75  1.2  1.263158  1.976744          0   \n",
       "3 -0.462857  1.856436  2.000000  0.75  1.2  1.263158  1.418605          0   \n",
       "4 -0.462857  1.856436  0.666667  0.75  1.2  0.421053  0.953488          0   \n",
       "\n",
       "   0_amdahl  0_apollo  ...  1_v8635  1_v8650  1_v8655  1_v8665  1_v8670  \\\n",
       "0         0         0  ...        0        0        0        0        0   \n",
       "1         1         0  ...        0        0        0        0        0   \n",
       "2         1         0  ...        0        0        0        0        0   \n",
       "3         1         0  ...        0        0        0        0        0   \n",
       "4         1         0  ...        0        0        0        0        0   \n",
       "\n",
       "   1_vax:11/730  1_vax:11/750  1_vax:11/780  1_vs-100  1_vs-90  \n",
       "0             0             0             0         0        0  \n",
       "1             0             0             0         0        0  \n",
       "2             0             0             0         0        0  \n",
       "3             0             0             0         0        0  \n",
       "4             0             0             0         0        0  \n",
       "\n",
       "[5 rows x 246 columns]"
      ]
     },
     "execution_count": 47,
     "metadata": {},
     "output_type": "execute_result"
    }
   ],
   "source": [
    "from sklearn.preprocessing import RobustScaler\n",
    "\n",
    "scaler = RobustScaler()\n",
    "\n",
    "X_scale3 = X\n",
    "X_scale3.iloc[:,:7] = scaler.fit_transform(X.iloc[:,:7])\n",
    "pd.DataFrame(X_scale3).head()"
   ]
  },
  {
   "cell_type": "code",
   "execution_count": 48,
   "metadata": {},
   "outputs": [
    {
     "data": {
      "text/plain": [
       "LinearRegression(copy_X=True, fit_intercept=True, n_jobs=None,\n",
       "         normalize=False)"
      ]
     },
     "execution_count": 48,
     "metadata": {},
     "output_type": "execute_result"
    }
   ],
   "source": [
    "X_train6, X_test6, Y_train6, Y_test6 = train_test_split(X_scale3, Y, test_size = 0.2, random_state = 42)\n",
    "\n",
    "model6 = LinearRegression()\n",
    "model6.fit(X_train6, Y_train6)"
   ]
  },
  {
   "cell_type": "code",
   "execution_count": 49,
   "metadata": {},
   "outputs": [],
   "source": [
    "Y_pred6 = model6.predict(X_test6)"
   ]
  },
  {
   "cell_type": "code",
   "execution_count": 50,
   "metadata": {},
   "outputs": [
    {
     "name": "stdout",
     "output_type": "stream",
     "text": [
      "Variance score:  0.9488753683624889\n"
     ]
    }
   ],
   "source": [
    "print(\"Variance score: \", r2_score(Y_test6, Y_pred6))"
   ]
  },
  {
   "cell_type": "code",
   "execution_count": 51,
   "metadata": {},
   "outputs": [
    {
     "data": {
      "text/plain": [
       "1.0"
      ]
     },
     "execution_count": 51,
     "metadata": {},
     "output_type": "execute_result"
    }
   ],
   "source": [
    "model6.score(X_train6, Y_train6)"
   ]
  },
  {
   "cell_type": "code",
   "execution_count": 52,
   "metadata": {},
   "outputs": [
    {
     "data": {
      "text/plain": [
       "0.9488753683624889"
      ]
     },
     "execution_count": 52,
     "metadata": {},
     "output_type": "execute_result"
    }
   ],
   "source": [
    "model6.score(X_test6, Y_test6)"
   ]
  },
  {
   "cell_type": "markdown",
   "metadata": {},
   "source": [
    "==> Nhận xét, sau khi scale dữ liệu, R2 của mô hình chỉ tăng được 0.1%, nên em vẫn sẽ tiếp tục sữ dụng bộ dữ liệu chưa scale"
   ]
  },
  {
   "cell_type": "markdown",
   "metadata": {},
   "source": [
    "** Áp dụng polynomial regression:"
   ]
  },
  {
   "cell_type": "code",
   "execution_count": 53,
   "metadata": {},
   "outputs": [],
   "source": [
    "from sklearn.preprocessing import PolynomialFeatures\n",
    "\n",
    "poly = PolynomialFeatures(degree = 2)\n",
    "X_poly = poly.fit_transform(X)"
   ]
  },
  {
   "cell_type": "code",
   "execution_count": 54,
   "metadata": {},
   "outputs": [
    {
     "data": {
      "text/plain": [
       "PolynomialFeatures(degree=2, include_bias=True, interaction_only=False)"
      ]
     },
     "execution_count": 54,
     "metadata": {},
     "output_type": "execute_result"
    }
   ],
   "source": [
    "poly.fit(X_poly, Y)"
   ]
  },
  {
   "cell_type": "code",
   "execution_count": 55,
   "metadata": {},
   "outputs": [
    {
     "data": {
      "text/plain": [
       "LinearRegression(copy_X=True, fit_intercept=True, n_jobs=None,\n",
       "         normalize=False)"
      ]
     },
     "execution_count": 55,
     "metadata": {},
     "output_type": "execute_result"
    }
   ],
   "source": [
    "X_train7, X_test7, Y_train7, Y_test7 = train_test_split(X_poly, Y, test_size = 0.2, random_state = 42)\n",
    "\n",
    "model7 = LinearRegression()\n",
    "model7.fit(X_train7, Y_train7)"
   ]
  },
  {
   "cell_type": "code",
   "execution_count": 56,
   "metadata": {},
   "outputs": [],
   "source": [
    "Y_pred7 = model7.predict(X_test7)"
   ]
  },
  {
   "cell_type": "code",
   "execution_count": 57,
   "metadata": {},
   "outputs": [
    {
     "name": "stdout",
     "output_type": "stream",
     "text": [
      "Variance score:  0.9971346499879752\n"
     ]
    }
   ],
   "source": [
    "print(\"Variance score: \", r2_score(Y_test7, Y_pred7))"
   ]
  },
  {
   "cell_type": "code",
   "execution_count": 58,
   "metadata": {},
   "outputs": [
    {
     "data": {
      "text/plain": [
       "1.0"
      ]
     },
     "execution_count": 58,
     "metadata": {},
     "output_type": "execute_result"
    }
   ],
   "source": [
    "model7.score(X_train7, Y_train7)"
   ]
  },
  {
   "cell_type": "code",
   "execution_count": 59,
   "metadata": {},
   "outputs": [
    {
     "data": {
      "text/plain": [
       "0.9971346499879751"
      ]
     },
     "execution_count": 59,
     "metadata": {},
     "output_type": "execute_result"
    }
   ],
   "source": [
    "model7.score(X_test7, Y_test7)"
   ]
  },
  {
   "cell_type": "code",
   "execution_count": 60,
   "metadata": {},
   "outputs": [
    {
     "data": {
      "text/plain": [
       "0.9987013349525368"
      ]
     },
     "execution_count": 60,
     "metadata": {},
     "output_type": "execute_result"
    }
   ],
   "source": [
    "model7.score(X_poly, Y)"
   ]
  },
  {
   "cell_type": "markdown",
   "metadata": {},
   "source": [
    "==> Không bị overfitting và underfitting"
   ]
  },
  {
   "cell_type": "code",
   "execution_count": 61,
   "metadata": {},
   "outputs": [
    {
     "data": {
      "image/png": "[encoded data removed]",
      "text/plain": [
       "<Figure size 720x360 with 1 Axes>"
      ]
     },
     "metadata": {
      "needs_background": "light"
     },
     "output_type": "display_data"
    }
   ],
   "source": [
    "plt.figure(figsize = (10,5))\n",
    "sb.distplot(Y_test7, hist = False, color = 'blue', label = 'Actual data of test part')\n",
    "sb.distplot(Y_pred7, hist = False, color = 'red', label = 'Predicted data of test part')\n",
    "plt.show()"
   ]
  },
  {
   "cell_type": "markdown",
   "metadata": {},
   "source": [
    "==> Sau khi nâng X lên bậc 2, thì em thấy R2 score rất CAO là 99.7%. Nhưng theo em nghĩ, trong thực tế, điều này rất khó xảy ra, và nếu có xảy ra thì ta phải xem xét lại mô hình và dữ liệu."
   ]
  },
  {
   "cell_type": "markdown",
   "metadata": {},
   "source": [
    "** Thử với một số mô hình khác:"
   ]
  },
  {
   "cell_type": "code",
   "execution_count": 62,
   "metadata": {},
   "outputs": [],
   "source": [
    "from sklearn.tree import DecisionTreeRegressor\n",
    "from sklearn.svm import SVR\n",
    "from sklearn.ensemble import RandomForestRegressor\n",
    "from sklearn.neighbors import KNeighborsRegressor\n",
    "from sklearn.model_selection import cross_val_score"
   ]
  },
  {
   "cell_type": "code",
   "execution_count": 63,
   "metadata": {},
   "outputs": [],
   "source": [
    "from warnings import simplefilter\n",
    "simplefilter(action='ignore', category=FutureWarning)"
   ]
  },
  {
   "cell_type": "code",
   "execution_count": 66,
   "metadata": {},
   "outputs": [],
   "source": [
    "models = [\n",
    "    DecisionTreeRegressor(criterion = 'mse'),\n",
    "    RandomForestRegressor(n_estimators=100),\n",
    "    KNeighborsRegressor(n_neighbors=3),\n",
    "    SVR(kernel = 'linear'),\n",
    "    LinearRegression()\n",
    "]\n",
    "\n",
    "CV = 5\n",
    "\n",
    "cv_df = pd.DataFrame(index = range(CV * len(models)))\n",
    "\n",
    "each_model = []\n",
    "\n",
    "for model in models:\n",
    "    r2 = []\n",
    "    for i in range(5):\n",
    "        model_name = model.__class__.__name__\n",
    "        model.fit(X_train2, Y_train2)\n",
    "        Y_pred = model.predict(X_test2)\n",
    "        r = r2_score(Y_pred, Y_test2)\n",
    "        r2.append(r)\n",
    "    \n",
    "    each_model.append([model_name, r2])"
   ]
  },
  {
   "cell_type": "code",
   "execution_count": 67,
   "metadata": {},
   "outputs": [
    {
     "data": {
      "text/plain": [
       "array([['DecisionTreeRegressor',\n",
       "        list([0.9357782341925855, 0.7314084007745989, 0.8012922799468003, 0.8005971607450393, 0.936034662420026])],\n",
       "       ['RandomForestRegressor',\n",
       "        list([0.7486208266037018, 0.7284434322257207, 0.7225238614149554, 0.7454030919983337, 0.7041006825183979])],\n",
       "       ['KNeighborsRegressor',\n",
       "        list([0.6519712297074236, 0.6519712297074236, 0.6519712297074236, 0.6519712297074236, 0.6519712297074236])],\n",
       "       ['SVR',\n",
       "        list([0.8249753568737956, 0.8249753568737956, 0.8249753568737956, 0.8249753568737956, 0.8249753568737956])],\n",
       "       ['LinearRegression',\n",
       "        list([0.9252927602860095, 0.9252927602860095, 0.9252927602860095, 0.9252927602860095, 0.9252927602860095])]],\n",
       "      dtype=object)"
      ]
     },
     "execution_count": 67,
     "metadata": {},
     "output_type": "execute_result"
    }
   ],
   "source": [
    "r2_model = np.array(each_model)\n",
    "r2_model"
   ]
  },
  {
   "cell_type": "markdown",
   "metadata": {},
   "source": [
    "==> Ta vẫn thấy mô hình Linear Regression là tốt nhất trong các mô hình"
   ]
  },
  {
   "cell_type": "markdown",
   "metadata": {},
   "source": [
    "==> Em sẽ dùng mô hình Linear Regression với bậc 2 với độ chính xác 99.7% để dự đoán"
   ]
  },
  {
   "cell_type": "markdown",
   "metadata": {},
   "source": [
    "** Dự đoán:"
   ]
  },
  {
   "cell_type": "code",
   "execution_count": 68,
   "metadata": {},
   "outputs": [
    {
     "data": {
      "text/html": [
       "<div>\n",
       "<style scoped>\n",
       "    .dataframe tbody tr th:only-of-type {\n",
       "        vertical-align: middle;\n",
       "    }\n",
       "\n",
       "    .dataframe tbody tr th {\n",
       "        vertical-align: top;\n",
       "    }\n",
       "\n",
       "    .dataframe thead th {\n",
       "        text-align: right;\n",
       "    }\n",
       "</style>\n",
       "<table border=\"1\" class=\"dataframe\">\n",
       "  <thead>\n",
       "    <tr style=\"text-align: right;\">\n",
       "      <th></th>\n",
       "      <th>2</th>\n",
       "      <th>3</th>\n",
       "      <th>4</th>\n",
       "      <th>5</th>\n",
       "      <th>6</th>\n",
       "      <th>7</th>\n",
       "      <th>8</th>\n",
       "      <th>0_adviser</th>\n",
       "      <th>0_amdahl</th>\n",
       "      <th>0_apollo</th>\n",
       "      <th>...</th>\n",
       "      <th>1_v8635</th>\n",
       "      <th>1_v8650</th>\n",
       "      <th>1_v8655</th>\n",
       "      <th>1_v8665</th>\n",
       "      <th>1_v8670</th>\n",
       "      <th>1_vax:11/730</th>\n",
       "      <th>1_vax:11/750</th>\n",
       "      <th>1_vax:11/780</th>\n",
       "      <th>1_vs-100</th>\n",
       "      <th>1_vs-90</th>\n",
       "    </tr>\n",
       "  </thead>\n",
       "  <tbody>\n",
       "  </tbody>\n",
       "</table>\n",
       "<p>0 rows × 246 columns</p>\n",
       "</div>"
      ],
      "text/plain": [
       "Empty DataFrame\n",
       "Columns: [2, 3, 4, 5, 6, 7, 8, 0_adviser, 0_amdahl, 0_apollo, 0_basf, 0_bti, 0_burroughs, 0_c.r.d, 0_cambex, 0_cdc, 0_dec, 0_dg, 0_formation, 0_four-phase, 0_gould, 0_harris, 0_honeywell, 0_hp, 0_ibm, 0_ipl, 0_magnuson, 0_microdata, 0_nas, 0_ncr, 0_nixdorf, 0_perkin-elmer, 0_prime, 0_siemens, 0_sperry, 0_sratus, 0_wang, 1_100, 1_1100/61-h1, 1_1100/81, 1_1100/82, 1_1100/83, 1_1100/84, 1_1100/93, 1_1100/94, 1_1636-1, 1_1636-10, 1_1641-1, 1_1641-11, 1_1651-1, 1_2000/260, 1_300, 1_3000/30, 1_3000/40, 1_3000/44, 1_3000/48, 1_3000/64, 1_3000/88, 1_3000/iii, 1_3033:s, 1_3033:u, 1_3081, 1_3081:d, 1_3083:b, 1_3083:e, 1_32, 1_32/60, 1_3205, 1_3210, 1_3230, 1_370/125-2, 1_370/148, 1_370/158-3, 1_38/3, 1_38/4, 1_38/5, 1_38/7, 1_38/8, 1_4321, 1_4331-1, 1_4331-11, 1_4331-2, 1_4341, 1_4341-1, 1_4341-10, 1_4341-11, 1_4341-12, 1_4341-2, 1_4341-9, 1_4361-4, 1_4361-5, 1_4381-1, 1_4381-2, 1_4436, 1_4443, 1_4445, 1_4446, 1_4460, 1_4480, 1_470v/7, ...]\n",
       "Index: []\n",
       "\n",
       "[0 rows x 246 columns]"
      ]
     },
     "execution_count": 68,
     "metadata": {},
     "output_type": "execute_result"
    }
   ],
   "source": [
    "X_need_pred = pd.DataFrame(columns=X.columns)\n",
    "X_need_pred"
   ]
  },
  {
   "cell_type": "code",
   "execution_count": 69,
   "metadata": {},
   "outputs": [],
   "source": [
    "temp = [['amdahl','470v/7b',29,8000,32000,32,8,32,172], ['sperry','1100/83',50,2000,32000,112,52,104,307]] \n",
    "X_need_pred = X_need_pred.append(pd.get_dummies(pd.DataFrame(temp)))\n",
    "X_need_pred = X_need_pred.fillna(0)"
   ]
  },
  {
   "cell_type": "code",
   "execution_count": 70,
   "metadata": {},
   "outputs": [
    {
     "data": {
      "text/html": [
       "<div>\n",
       "<style scoped>\n",
       "    .dataframe tbody tr th:only-of-type {\n",
       "        vertical-align: middle;\n",
       "    }\n",
       "\n",
       "    .dataframe tbody tr th {\n",
       "        vertical-align: top;\n",
       "    }\n",
       "\n",
       "    .dataframe thead th {\n",
       "        text-align: right;\n",
       "    }\n",
       "</style>\n",
       "<table border=\"1\" class=\"dataframe\">\n",
       "  <thead>\n",
       "    <tr style=\"text-align: right;\">\n",
       "      <th></th>\n",
       "      <th>2</th>\n",
       "      <th>3</th>\n",
       "      <th>4</th>\n",
       "      <th>5</th>\n",
       "      <th>6</th>\n",
       "      <th>7</th>\n",
       "      <th>8</th>\n",
       "      <th>0_adviser</th>\n",
       "      <th>0_amdahl</th>\n",
       "      <th>0_apollo</th>\n",
       "      <th>...</th>\n",
       "      <th>1_v8635</th>\n",
       "      <th>1_v8650</th>\n",
       "      <th>1_v8655</th>\n",
       "      <th>1_v8665</th>\n",
       "      <th>1_v8670</th>\n",
       "      <th>1_vax:11/730</th>\n",
       "      <th>1_vax:11/750</th>\n",
       "      <th>1_vax:11/780</th>\n",
       "      <th>1_vs-100</th>\n",
       "      <th>1_vs-90</th>\n",
       "    </tr>\n",
       "  </thead>\n",
       "  <tbody>\n",
       "    <tr>\n",
       "      <th>0</th>\n",
       "      <td>29</td>\n",
       "      <td>8000</td>\n",
       "      <td>32000</td>\n",
       "      <td>32</td>\n",
       "      <td>8</td>\n",
       "      <td>32</td>\n",
       "      <td>172</td>\n",
       "      <td>0</td>\n",
       "      <td>1</td>\n",
       "      <td>0</td>\n",
       "      <td>...</td>\n",
       "      <td>0</td>\n",
       "      <td>0</td>\n",
       "      <td>0</td>\n",
       "      <td>0</td>\n",
       "      <td>0</td>\n",
       "      <td>0</td>\n",
       "      <td>0</td>\n",
       "      <td>0</td>\n",
       "      <td>0</td>\n",
       "      <td>0</td>\n",
       "    </tr>\n",
       "    <tr>\n",
       "      <th>1</th>\n",
       "      <td>50</td>\n",
       "      <td>2000</td>\n",
       "      <td>32000</td>\n",
       "      <td>112</td>\n",
       "      <td>52</td>\n",
       "      <td>104</td>\n",
       "      <td>307</td>\n",
       "      <td>0</td>\n",
       "      <td>0</td>\n",
       "      <td>0</td>\n",
       "      <td>...</td>\n",
       "      <td>0</td>\n",
       "      <td>0</td>\n",
       "      <td>0</td>\n",
       "      <td>0</td>\n",
       "      <td>0</td>\n",
       "      <td>0</td>\n",
       "      <td>0</td>\n",
       "      <td>0</td>\n",
       "      <td>0</td>\n",
       "      <td>0</td>\n",
       "    </tr>\n",
       "  </tbody>\n",
       "</table>\n",
       "<p>2 rows × 246 columns</p>\n",
       "</div>"
      ],
      "text/plain": [
       "    2     3      4    5   6    7    8  0_adviser  0_amdahl  0_apollo  ...  \\\n",
       "0  29  8000  32000   32   8   32  172          0         1         0  ...   \n",
       "1  50  2000  32000  112  52  104  307          0         0         0  ...   \n",
       "\n",
       "   1_v8635  1_v8650  1_v8655  1_v8665  1_v8670  1_vax:11/730  1_vax:11/750  \\\n",
       "0        0        0        0        0        0             0             0   \n",
       "1        0        0        0        0        0             0             0   \n",
       "\n",
       "   1_vax:11/780  1_vs-100  1_vs-90  \n",
       "0             0         0        0  \n",
       "1             0         0        0  \n",
       "\n",
       "[2 rows x 246 columns]"
      ]
     },
     "execution_count": 70,
     "metadata": {},
     "output_type": "execute_result"
    }
   ],
   "source": [
    "X_need_pred"
   ]
  },
  {
   "cell_type": "code",
   "execution_count": 71,
   "metadata": {},
   "outputs": [
    {
     "data": {
      "text/plain": [
       "array([1.17910203e+10, 1.12816073e+10])"
      ]
     },
     "execution_count": 71,
     "metadata": {},
     "output_type": "execute_result"
    }
   ],
   "source": [
    "X_poly_need = poly.fit_transform(X_need_pred)\n",
    "results = model7.predict(X_poly_need)\n",
    "results"
   ]
  },
  {
   "cell_type": "code",
   "execution_count": 72,
   "metadata": {},
   "outputs": [
    {
     "data": {
      "text/plain": [
       "array([253.        , 300.56167016])"
      ]
     },
     "execution_count": 72,
     "metadata": {},
     "output_type": "execute_result"
    }
   ],
   "source": [
    "model2.predict(X_need_pred)"
   ]
  },
  {
   "cell_type": "code",
   "execution_count": 74,
   "metadata": {},
   "outputs": [
    {
     "data": {
      "text/plain": [
       "array([253.       , 317.5295876])"
      ]
     },
     "execution_count": 74,
     "metadata": {},
     "output_type": "execute_result"
    }
   ],
   "source": [
    "model1.predict(X_need_pred)"
   ]
  },
  {
   "cell_type": "markdown",
   "metadata": {},
   "source": [
    "==> ERP lần lượt là 253 và 300.6"
   ]
  }
 ],
 "metadata": {
  "kernelspec": {
   "display_name": "Python 3",
   "language": "python",
   "name": "python3"
  },
  "language_info": {
   "codemirror_mode": {
    "name": "ipython",
    "version": 3
   },
   "file_extension": ".py",
   "mimetype": "text/x-python",
   "name": "python",
   "nbconvert_exporter": "python",
   "pygments_lexer": "ipython3",
   "version": "3.7.2"
  }
 },
 "nbformat": 4,
 "nbformat_minor": 2
}
